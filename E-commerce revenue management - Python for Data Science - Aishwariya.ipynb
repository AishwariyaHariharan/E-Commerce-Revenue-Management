{
 "cells": [
  {
   "cell_type": "markdown",
   "id": "6a7d5404",
   "metadata": {
    "id": "6a7d5404"
   },
   "source": [
    "<font color='blue'>\n",
    "    <font size = 5>\n",
    "        You have been given the role of a business analyst for an E-Commerce company and have been asked to prepare a basic report on the data. Follow the steps below for preparation of the report.\n",
    "\n",
    "Before you start analysing the data, it is always a good practice to see the size of the data, its features and feature types. If the data set is big, it is not possible to print out all the records.\n",
    "    </font>\n",
    "####  Note: Use the markdown feature of Python to explain your answer.\n",
    "    "
   ]
  },
  {
   "cell_type": "markdown",
   "id": "daf5d935",
   "metadata": {
    "id": "daf5d935"
   },
   "source": [
    "## Load the necessary libraries. Import and load the dataset with a name ECom_Data ."
   ]
  },
  {
   "cell_type": "code",
   "execution_count": 1,
   "id": "eec2a3b5",
   "metadata": {
    "id": "eec2a3b5"
   },
   "outputs": [],
   "source": [
    "import numpy as np\n",
    "import pandas as pd\n",
    "import matplotlib.pyplot as plt\n",
    "import seaborn as sns\n",
    "pd.options.display.max_rows = 10\n",
    "%matplotlib inline"
   ]
  },
  {
   "cell_type": "code",
   "execution_count": 3,
   "id": "8e1fcc97",
   "metadata": {
    "colab": {
     "base_uri": "https://localhost:8080/",
     "height": 1000
    },
    "id": "8e1fcc97",
    "outputId": "61f6d340-cbc0-4c53-8891-a91cbb39441d",
    "scrolled": true
   },
   "outputs": [
    {
     "data": {
      "text/html": [
       "<div>\n",
       "<style scoped>\n",
       "    .dataframe tbody tr th:only-of-type {\n",
       "        vertical-align: middle;\n",
       "    }\n",
       "\n",
       "    .dataframe tbody tr th {\n",
       "        vertical-align: top;\n",
       "    }\n",
       "\n",
       "    .dataframe thead th {\n",
       "        text-align: right;\n",
       "    }\n",
       "</style>\n",
       "<table border=\"1\" class=\"dataframe\">\n",
       "  <thead>\n",
       "    <tr style=\"text-align: right;\">\n",
       "      <th></th>\n",
       "      <th>Customer_uniq_id</th>\n",
       "      <th>Region</th>\n",
       "      <th>Order_Date</th>\n",
       "      <th>Expected_Delivery_Date</th>\n",
       "      <th>Delivered_Date</th>\n",
       "      <th>product_name</th>\n",
       "      <th>product_main_category</th>\n",
       "      <th>product_subcategory</th>\n",
       "      <th>product_category_filter</th>\n",
       "      <th>product_category_subfilter</th>\n",
       "      <th>product_unique ID</th>\n",
       "      <th>retail_price</th>\n",
       "      <th>discounted_price</th>\n",
       "      <th>product_rating</th>\n",
       "      <th>Brand</th>\n",
       "      <th>product_specifications</th>\n",
       "      <th>description</th>\n",
       "    </tr>\n",
       "  </thead>\n",
       "  <tbody>\n",
       "    <tr>\n",
       "      <th>0</th>\n",
       "      <td>e71017e224688489edfe856f2308806d</td>\n",
       "      <td>East</td>\n",
       "      <td>24-10-2021</td>\n",
       "      <td>25-10-2021</td>\n",
       "      <td>25-10-2021</td>\n",
       "      <td>Indcrown Net Embroidered Semi-stitched Lehenga...</td>\n",
       "      <td>Clothing</td>\n",
       "      <td>Women's Clothing</td>\n",
       "      <td>Ethnic Wear</td>\n",
       "      <td>Fabric</td>\n",
       "      <td>FABEJX2NHNKCYHKA</td>\n",
       "      <td>999</td>\n",
       "      <td>699</td>\n",
       "      <td>4.0</td>\n",
       "      <td>INDCROWN</td>\n",
       "      <td>{\"product_specification\"=&gt;[{\"key\"=&gt;\"Fabric\", \"...</td>\n",
       "      <td>Key Features of Indcrown Net Embroidered Semi-...</td>\n",
       "    </tr>\n",
       "    <tr>\n",
       "      <th>1</th>\n",
       "      <td>6286847ee2da18f587503db49511c539</td>\n",
       "      <td>East</td>\n",
       "      <td>24-10-2021</td>\n",
       "      <td>25-10-2021</td>\n",
       "      <td>25-10-2021</td>\n",
       "      <td>Shopmania Music Band A5 Notebook Spiral Bound</td>\n",
       "      <td>Pens &amp; Stationery</td>\n",
       "      <td>Diaries &amp; Notebooks</td>\n",
       "      <td>Notebooks</td>\n",
       "      <td>Designer</td>\n",
       "      <td>DIAEJ6Z8BEDTGGYY</td>\n",
       "      <td>499</td>\n",
       "      <td>275</td>\n",
       "      <td>1.0</td>\n",
       "      <td>SHOPMANIA</td>\n",
       "      <td>{\"product_specification\"=&gt;[{\"key\"=&gt;\"Ruling\", \"...</td>\n",
       "      <td>Specifications of Shopmania Music Band A5 Note...</td>\n",
       "    </tr>\n",
       "    <tr>\n",
       "      <th>2</th>\n",
       "      <td>0686fec9b70e5039583a38119ca0c835</td>\n",
       "      <td>West</td>\n",
       "      <td>24-10-2021</td>\n",
       "      <td>25-10-2021</td>\n",
       "      <td>25-10-2021</td>\n",
       "      <td>Shopmania Music Band A5 Notebook Spiral Bound</td>\n",
       "      <td>Pens &amp; Stationery</td>\n",
       "      <td>Diaries &amp; Notebooks</td>\n",
       "      <td>Notebooks</td>\n",
       "      <td>Designer</td>\n",
       "      <td>DIAEJ6Z8KQFWDEGH</td>\n",
       "      <td>499</td>\n",
       "      <td>275</td>\n",
       "      <td>2.0</td>\n",
       "      <td>SHOPMANIA</td>\n",
       "      <td>{\"product_specification\"=&gt;[{\"key\"=&gt;\"Ruling\", \"...</td>\n",
       "      <td>Specifications of Shopmania Music Band A5 Note...</td>\n",
       "    </tr>\n",
       "    <tr>\n",
       "      <th>3</th>\n",
       "      <td>ea2406dc597bee2abb6b867fa668501f</td>\n",
       "      <td>West</td>\n",
       "      <td>24-10-2021</td>\n",
       "      <td>25-10-2021</td>\n",
       "      <td>25-10-2021</td>\n",
       "      <td>Tiara Diaries 2016-2017 Designer LA Kaarta \"TA...</td>\n",
       "      <td>Pens &amp; Stationery</td>\n",
       "      <td>Diaries &amp; Notebooks</td>\n",
       "      <td>Notebooks</td>\n",
       "      <td>Designer</td>\n",
       "      <td>DIAEJ8FGHZ3K86JU</td>\n",
       "      <td>1000</td>\n",
       "      <td>837</td>\n",
       "      <td>3.0</td>\n",
       "      <td>TIARA DIARIES</td>\n",
       "      <td>{\"product_specification\"=&gt;[{\"key\"=&gt;\"Ruling\", \"...</td>\n",
       "      <td>Specifications of Tiara Diaries 2016-2017 Desi...</td>\n",
       "    </tr>\n",
       "    <tr>\n",
       "      <th>4</th>\n",
       "      <td>5935ed077915347dc695744df68c565c</td>\n",
       "      <td>East</td>\n",
       "      <td>03-09-2021</td>\n",
       "      <td>04-09-2021</td>\n",
       "      <td>04-09-2021</td>\n",
       "      <td>KAJCI Embroidered Women's Waistcoat</td>\n",
       "      <td>Clothing</td>\n",
       "      <td>Women's Clothing</td>\n",
       "      <td>Formal Wear</td>\n",
       "      <td>Waistcoats</td>\n",
       "      <td>WSCEG2FYDYFDSVZ6</td>\n",
       "      <td>1200</td>\n",
       "      <td>699</td>\n",
       "      <td>5.0</td>\n",
       "      <td>KAJCI</td>\n",
       "      <td>{\"product_specification\"=&gt;[{\"key\"=&gt;\"Pattern\", ...</td>\n",
       "      <td>Specifications of KAJCI Embroidered Women's Wa...</td>\n",
       "    </tr>\n",
       "    <tr>\n",
       "      <th>...</th>\n",
       "      <td>...</td>\n",
       "      <td>...</td>\n",
       "      <td>...</td>\n",
       "      <td>...</td>\n",
       "      <td>...</td>\n",
       "      <td>...</td>\n",
       "      <td>...</td>\n",
       "      <td>...</td>\n",
       "      <td>...</td>\n",
       "      <td>...</td>\n",
       "      <td>...</td>\n",
       "      <td>...</td>\n",
       "      <td>...</td>\n",
       "      <td>...</td>\n",
       "      <td>...</td>\n",
       "      <td>...</td>\n",
       "      <td>...</td>\n",
       "    </tr>\n",
       "    <tr>\n",
       "      <th>8901</th>\n",
       "      <td>90d30478255e23621e8929ed15c2f6e4</td>\n",
       "      <td>South</td>\n",
       "      <td>01-12-2020</td>\n",
       "      <td>04-12-2020</td>\n",
       "      <td>04-12-2020</td>\n",
       "      <td>Sinina Chanderi Embroidered Salwar Suit Dupatt...</td>\n",
       "      <td>Clothing</td>\n",
       "      <td>Women's Clothing</td>\n",
       "      <td>Ethnic Wear</td>\n",
       "      <td>Fabric</td>\n",
       "      <td>FABEGGHHDFMY8BZU</td>\n",
       "      <td>2980</td>\n",
       "      <td>1490</td>\n",
       "      <td>3.0</td>\n",
       "      <td>SININA</td>\n",
       "      <td>{\"product_specification\"=&gt;[{\"key\"=&gt;\"Fabric\", \"...</td>\n",
       "      <td>Key Features of Sinina Chanderi Embroidered Sa...</td>\n",
       "    </tr>\n",
       "    <tr>\n",
       "      <th>8902</th>\n",
       "      <td>20a73e3f41490a73ceeba5f17658db8f</td>\n",
       "      <td>West</td>\n",
       "      <td>01-12-2020</td>\n",
       "      <td>04-12-2020</td>\n",
       "      <td>04-12-2020</td>\n",
       "      <td>Aarushi Fashion Chanderi Embroidered Salwar Su...</td>\n",
       "      <td>Clothing</td>\n",
       "      <td>Women's Clothing</td>\n",
       "      <td>Ethnic Wear</td>\n",
       "      <td>Fabric</td>\n",
       "      <td>FABEG8GFDUWRSNU3</td>\n",
       "      <td>2600</td>\n",
       "      <td>1300</td>\n",
       "      <td>1.0</td>\n",
       "      <td>AARUSHI FASHION</td>\n",
       "      <td>{\"product_specification\"=&gt;[{\"key\"=&gt;\"Fabric\", \"...</td>\n",
       "      <td>Key Features of Aarushi Fashion Chanderi Embro...</td>\n",
       "    </tr>\n",
       "    <tr>\n",
       "      <th>8903</th>\n",
       "      <td>5c1554cd45f9d538c2c6947dbdd59c75</td>\n",
       "      <td>East</td>\n",
       "      <td>01-12-2020</td>\n",
       "      <td>04-12-2020</td>\n",
       "      <td>04-12-2020</td>\n",
       "      <td>Ambika Lahenga Embroidered Lehenga, Choli and ...</td>\n",
       "      <td>Clothing</td>\n",
       "      <td>Women's Clothing</td>\n",
       "      <td>Ethnic Wear</td>\n",
       "      <td>Lehenga Cholis</td>\n",
       "      <td>LEHEGGEHYN4G2RPW</td>\n",
       "      <td>39992</td>\n",
       "      <td>24995</td>\n",
       "      <td>1.0</td>\n",
       "      <td>AMBIKA LAHENGA</td>\n",
       "      <td>{\"product_specification\"=&gt;[{\"key\"=&gt;\"Fabric\", \"...</td>\n",
       "      <td>Key Features of Ambika Lahenga Embroidered Leh...</td>\n",
       "    </tr>\n",
       "    <tr>\n",
       "      <th>8904</th>\n",
       "      <td>6b737a4deca1ed0e56c179e66036e994</td>\n",
       "      <td>West</td>\n",
       "      <td>01-12-2020</td>\n",
       "      <td>04-12-2020</td>\n",
       "      <td>04-12-2020</td>\n",
       "      <td>Sinina Chanderi Embroidered Salwar Suit Dupatt...</td>\n",
       "      <td>Clothing</td>\n",
       "      <td>Women's Clothing</td>\n",
       "      <td>Ethnic Wear</td>\n",
       "      <td>Fabric</td>\n",
       "      <td>FABEGGHHGSVCHGFV</td>\n",
       "      <td>2000</td>\n",
       "      <td>1000</td>\n",
       "      <td>3.0</td>\n",
       "      <td>SININA</td>\n",
       "      <td>{\"product_specification\"=&gt;[{\"key\"=&gt;\"Fabric\", \"...</td>\n",
       "      <td>Key Features of Sinina Chanderi Embroidered Sa...</td>\n",
       "    </tr>\n",
       "    <tr>\n",
       "      <th>8905</th>\n",
       "      <td>a5235ac28d3d5487f54025f9d6b57433</td>\n",
       "      <td>North</td>\n",
       "      <td>01-12-2020</td>\n",
       "      <td>04-12-2020</td>\n",
       "      <td>04-12-2020</td>\n",
       "      <td>Aarushi Fashion Silk Striped Salwar Suit Dupat...</td>\n",
       "      <td>Clothing</td>\n",
       "      <td>Women's Clothing</td>\n",
       "      <td>Ethnic Wear</td>\n",
       "      <td>Fabric</td>\n",
       "      <td>FABEG8GYDAABECZH</td>\n",
       "      <td>2800</td>\n",
       "      <td>1350</td>\n",
       "      <td>4.0</td>\n",
       "      <td>AARUSHI FASHION</td>\n",
       "      <td>{\"product_specification\"=&gt;[{\"key\"=&gt;\"Fabric\", \"...</td>\n",
       "      <td>Key Features of Aarushi Fashion Silk Striped S...</td>\n",
       "    </tr>\n",
       "  </tbody>\n",
       "</table>\n",
       "<p>8906 rows × 17 columns</p>\n",
       "</div>"
      ],
      "text/plain": [
       "                      Customer_uniq_id Region  Order_Date  \\\n",
       "0     e71017e224688489edfe856f2308806d  East   24-10-2021   \n",
       "1     6286847ee2da18f587503db49511c539  East   24-10-2021   \n",
       "2     0686fec9b70e5039583a38119ca0c835   West  24-10-2021   \n",
       "3     ea2406dc597bee2abb6b867fa668501f   West  24-10-2021   \n",
       "4     5935ed077915347dc695744df68c565c  East   03-09-2021   \n",
       "...                                ...    ...         ...   \n",
       "8901  90d30478255e23621e8929ed15c2f6e4  South  01-12-2020   \n",
       "8902  20a73e3f41490a73ceeba5f17658db8f   West  01-12-2020   \n",
       "8903  5c1554cd45f9d538c2c6947dbdd59c75  East   01-12-2020   \n",
       "8904  6b737a4deca1ed0e56c179e66036e994   West  01-12-2020   \n",
       "8905  a5235ac28d3d5487f54025f9d6b57433  North  01-12-2020   \n",
       "\n",
       "     Expected_Delivery_Date Delivered_Date  \\\n",
       "0                25-10-2021     25-10-2021   \n",
       "1                25-10-2021     25-10-2021   \n",
       "2                25-10-2021     25-10-2021   \n",
       "3                25-10-2021     25-10-2021   \n",
       "4                04-09-2021     04-09-2021   \n",
       "...                     ...            ...   \n",
       "8901             04-12-2020     04-12-2020   \n",
       "8902             04-12-2020     04-12-2020   \n",
       "8903             04-12-2020     04-12-2020   \n",
       "8904             04-12-2020     04-12-2020   \n",
       "8905             04-12-2020     04-12-2020   \n",
       "\n",
       "                                           product_name product_main_category  \\\n",
       "0     Indcrown Net Embroidered Semi-stitched Lehenga...             Clothing    \n",
       "1         Shopmania Music Band A5 Notebook Spiral Bound    Pens & Stationery    \n",
       "2         Shopmania Music Band A5 Notebook Spiral Bound    Pens & Stationery    \n",
       "3     Tiara Diaries 2016-2017 Designer LA Kaarta \"TA...    Pens & Stationery    \n",
       "4                   KAJCI Embroidered Women's Waistcoat             Clothing    \n",
       "...                                                 ...                   ...   \n",
       "8901  Sinina Chanderi Embroidered Salwar Suit Dupatt...             Clothing    \n",
       "8902  Aarushi Fashion Chanderi Embroidered Salwar Su...             Clothing    \n",
       "8903  Ambika Lahenga Embroidered Lehenga, Choli and ...             Clothing    \n",
       "8904  Sinina Chanderi Embroidered Salwar Suit Dupatt...             Clothing    \n",
       "8905  Aarushi Fashion Silk Striped Salwar Suit Dupat...             Clothing    \n",
       "\n",
       "        product_subcategory product_category_filter  \\\n",
       "0         Women's Clothing             Ethnic Wear    \n",
       "1      Diaries & Notebooks               Notebooks    \n",
       "2      Diaries & Notebooks               Notebooks    \n",
       "3      Diaries & Notebooks               Notebooks    \n",
       "4         Women's Clothing             Formal Wear    \n",
       "...                     ...                     ...   \n",
       "8901      Women's Clothing             Ethnic Wear    \n",
       "8902      Women's Clothing             Ethnic Wear    \n",
       "8903      Women's Clothing             Ethnic Wear    \n",
       "8904      Women's Clothing             Ethnic Wear    \n",
       "8905      Women's Clothing             Ethnic Wear    \n",
       "\n",
       "     product_category_subfilter product_unique ID  retail_price  \\\n",
       "0                       Fabric   FABEJX2NHNKCYHKA           999   \n",
       "1                     Designer   DIAEJ6Z8BEDTGGYY           499   \n",
       "2                     Designer   DIAEJ6Z8KQFWDEGH           499   \n",
       "3                     Designer   DIAEJ8FGHZ3K86JU          1000   \n",
       "4                   Waistcoats   WSCEG2FYDYFDSVZ6          1200   \n",
       "...                         ...               ...           ...   \n",
       "8901                    Fabric   FABEGGHHDFMY8BZU          2980   \n",
       "8902                    Fabric   FABEG8GFDUWRSNU3          2600   \n",
       "8903            Lehenga Cholis   LEHEGGEHYN4G2RPW         39992   \n",
       "8904                    Fabric   FABEGGHHGSVCHGFV          2000   \n",
       "8905                    Fabric   FABEG8GYDAABECZH          2800   \n",
       "\n",
       "      discounted_price  product_rating            Brand  \\\n",
       "0                  699             4.0         INDCROWN   \n",
       "1                  275             1.0        SHOPMANIA   \n",
       "2                  275             2.0        SHOPMANIA   \n",
       "3                  837             3.0    TIARA DIARIES   \n",
       "4                  699             5.0            KAJCI   \n",
       "...                ...             ...              ...   \n",
       "8901              1490             3.0           SININA   \n",
       "8902              1300             1.0  AARUSHI FASHION   \n",
       "8903             24995             1.0   AMBIKA LAHENGA   \n",
       "8904              1000             3.0           SININA   \n",
       "8905              1350             4.0  AARUSHI FASHION   \n",
       "\n",
       "                                 product_specifications  \\\n",
       "0     {\"product_specification\"=>[{\"key\"=>\"Fabric\", \"...   \n",
       "1     {\"product_specification\"=>[{\"key\"=>\"Ruling\", \"...   \n",
       "2     {\"product_specification\"=>[{\"key\"=>\"Ruling\", \"...   \n",
       "3     {\"product_specification\"=>[{\"key\"=>\"Ruling\", \"...   \n",
       "4     {\"product_specification\"=>[{\"key\"=>\"Pattern\", ...   \n",
       "...                                                 ...   \n",
       "8901  {\"product_specification\"=>[{\"key\"=>\"Fabric\", \"...   \n",
       "8902  {\"product_specification\"=>[{\"key\"=>\"Fabric\", \"...   \n",
       "8903  {\"product_specification\"=>[{\"key\"=>\"Fabric\", \"...   \n",
       "8904  {\"product_specification\"=>[{\"key\"=>\"Fabric\", \"...   \n",
       "8905  {\"product_specification\"=>[{\"key\"=>\"Fabric\", \"...   \n",
       "\n",
       "                                            description  \n",
       "0     Key Features of Indcrown Net Embroidered Semi-...  \n",
       "1     Specifications of Shopmania Music Band A5 Note...  \n",
       "2     Specifications of Shopmania Music Band A5 Note...  \n",
       "3     Specifications of Tiara Diaries 2016-2017 Desi...  \n",
       "4     Specifications of KAJCI Embroidered Women's Wa...  \n",
       "...                                                 ...  \n",
       "8901  Key Features of Sinina Chanderi Embroidered Sa...  \n",
       "8902  Key Features of Aarushi Fashion Chanderi Embro...  \n",
       "8903  Key Features of Ambika Lahenga Embroidered Leh...  \n",
       "8904  Key Features of Sinina Chanderi Embroidered Sa...  \n",
       "8905  Key Features of Aarushi Fashion Silk Striped S...  \n",
       "\n",
       "[8906 rows x 17 columns]"
      ]
     },
     "execution_count": 3,
     "metadata": {},
     "output_type": "execute_result"
    }
   ],
   "source": [
    "# Get the Data\n",
    "\n",
    "ECom_Data=pd.read_csv(r'D:\\dsba\\python\\E-Commerce.csv')\n",
    "ECom_Data"
   ]
  },
  {
   "cell_type": "markdown",
   "id": "2cf5f20f",
   "metadata": {
    "id": "2cf5f20f"
   },
   "source": [
    "<font color='blue'>\n",
    "    <font size = 5>\n",
    "        We have read the data and stored the data in \"ECom_Data\" variable </font>"
   ]
  },
  {
   "cell_type": "markdown",
   "id": "a0a4f84a",
   "metadata": {
    "id": "a0a4f84a"
   },
   "source": [
    "## Q 1.\tTo get familiar with the data\n",
    "## a)\tPrint out the first 10 and the last 10 records of the data. (2 marks)\n",
    "## b)\tHow many rows and columns are present in the dataset? Use any two different methods to extract this information. (2 + 2 + 2 marks)\n",
    "## c)\tHow many object data types are there? (1 mark)\n",
    "## d)\tIs there any Boolean data type? (1 mark)\n",
    "#### Note: Use the markdown feature of Python to explain your answer.\n"
   ]
  },
  {
   "cell_type": "code",
   "execution_count": 4,
   "id": "55ad77c3",
   "metadata": {
    "colab": {
     "base_uri": "https://localhost:8080/",
     "height": 973
    },
    "id": "55ad77c3",
    "outputId": "489c3d11-1031-4ba3-e798-e43f0a96cad4"
   },
   "outputs": [
    {
     "data": {
      "text/html": [
       "<div>\n",
       "<style scoped>\n",
       "    .dataframe tbody tr th:only-of-type {\n",
       "        vertical-align: middle;\n",
       "    }\n",
       "\n",
       "    .dataframe tbody tr th {\n",
       "        vertical-align: top;\n",
       "    }\n",
       "\n",
       "    .dataframe thead th {\n",
       "        text-align: right;\n",
       "    }\n",
       "</style>\n",
       "<table border=\"1\" class=\"dataframe\">\n",
       "  <thead>\n",
       "    <tr style=\"text-align: right;\">\n",
       "      <th></th>\n",
       "      <th>Customer_uniq_id</th>\n",
       "      <th>Region</th>\n",
       "      <th>Order_Date</th>\n",
       "      <th>Expected_Delivery_Date</th>\n",
       "      <th>Delivered_Date</th>\n",
       "      <th>product_name</th>\n",
       "      <th>product_main_category</th>\n",
       "      <th>product_subcategory</th>\n",
       "      <th>product_category_filter</th>\n",
       "      <th>product_category_subfilter</th>\n",
       "      <th>product_unique ID</th>\n",
       "      <th>retail_price</th>\n",
       "      <th>discounted_price</th>\n",
       "      <th>product_rating</th>\n",
       "      <th>Brand</th>\n",
       "      <th>product_specifications</th>\n",
       "      <th>description</th>\n",
       "    </tr>\n",
       "  </thead>\n",
       "  <tbody>\n",
       "    <tr>\n",
       "      <th>0</th>\n",
       "      <td>e71017e224688489edfe856f2308806d</td>\n",
       "      <td>East</td>\n",
       "      <td>24-10-2021</td>\n",
       "      <td>25-10-2021</td>\n",
       "      <td>25-10-2021</td>\n",
       "      <td>Indcrown Net Embroidered Semi-stitched Lehenga...</td>\n",
       "      <td>Clothing</td>\n",
       "      <td>Women's Clothing</td>\n",
       "      <td>Ethnic Wear</td>\n",
       "      <td>Fabric</td>\n",
       "      <td>FABEJX2NHNKCYHKA</td>\n",
       "      <td>999</td>\n",
       "      <td>699</td>\n",
       "      <td>4.0</td>\n",
       "      <td>INDCROWN</td>\n",
       "      <td>{\"product_specification\"=&gt;[{\"key\"=&gt;\"Fabric\", \"...</td>\n",
       "      <td>Key Features of Indcrown Net Embroidered Semi-...</td>\n",
       "    </tr>\n",
       "    <tr>\n",
       "      <th>1</th>\n",
       "      <td>6286847ee2da18f587503db49511c539</td>\n",
       "      <td>East</td>\n",
       "      <td>24-10-2021</td>\n",
       "      <td>25-10-2021</td>\n",
       "      <td>25-10-2021</td>\n",
       "      <td>Shopmania Music Band A5 Notebook Spiral Bound</td>\n",
       "      <td>Pens &amp; Stationery</td>\n",
       "      <td>Diaries &amp; Notebooks</td>\n",
       "      <td>Notebooks</td>\n",
       "      <td>Designer</td>\n",
       "      <td>DIAEJ6Z8BEDTGGYY</td>\n",
       "      <td>499</td>\n",
       "      <td>275</td>\n",
       "      <td>1.0</td>\n",
       "      <td>SHOPMANIA</td>\n",
       "      <td>{\"product_specification\"=&gt;[{\"key\"=&gt;\"Ruling\", \"...</td>\n",
       "      <td>Specifications of Shopmania Music Band A5 Note...</td>\n",
       "    </tr>\n",
       "    <tr>\n",
       "      <th>2</th>\n",
       "      <td>0686fec9b70e5039583a38119ca0c835</td>\n",
       "      <td>West</td>\n",
       "      <td>24-10-2021</td>\n",
       "      <td>25-10-2021</td>\n",
       "      <td>25-10-2021</td>\n",
       "      <td>Shopmania Music Band A5 Notebook Spiral Bound</td>\n",
       "      <td>Pens &amp; Stationery</td>\n",
       "      <td>Diaries &amp; Notebooks</td>\n",
       "      <td>Notebooks</td>\n",
       "      <td>Designer</td>\n",
       "      <td>DIAEJ6Z8KQFWDEGH</td>\n",
       "      <td>499</td>\n",
       "      <td>275</td>\n",
       "      <td>2.0</td>\n",
       "      <td>SHOPMANIA</td>\n",
       "      <td>{\"product_specification\"=&gt;[{\"key\"=&gt;\"Ruling\", \"...</td>\n",
       "      <td>Specifications of Shopmania Music Band A5 Note...</td>\n",
       "    </tr>\n",
       "    <tr>\n",
       "      <th>3</th>\n",
       "      <td>ea2406dc597bee2abb6b867fa668501f</td>\n",
       "      <td>West</td>\n",
       "      <td>24-10-2021</td>\n",
       "      <td>25-10-2021</td>\n",
       "      <td>25-10-2021</td>\n",
       "      <td>Tiara Diaries 2016-2017 Designer LA Kaarta \"TA...</td>\n",
       "      <td>Pens &amp; Stationery</td>\n",
       "      <td>Diaries &amp; Notebooks</td>\n",
       "      <td>Notebooks</td>\n",
       "      <td>Designer</td>\n",
       "      <td>DIAEJ8FGHZ3K86JU</td>\n",
       "      <td>1000</td>\n",
       "      <td>837</td>\n",
       "      <td>3.0</td>\n",
       "      <td>TIARA DIARIES</td>\n",
       "      <td>{\"product_specification\"=&gt;[{\"key\"=&gt;\"Ruling\", \"...</td>\n",
       "      <td>Specifications of Tiara Diaries 2016-2017 Desi...</td>\n",
       "    </tr>\n",
       "    <tr>\n",
       "      <th>4</th>\n",
       "      <td>5935ed077915347dc695744df68c565c</td>\n",
       "      <td>East</td>\n",
       "      <td>03-09-2021</td>\n",
       "      <td>04-09-2021</td>\n",
       "      <td>04-09-2021</td>\n",
       "      <td>KAJCI Embroidered Women's Waistcoat</td>\n",
       "      <td>Clothing</td>\n",
       "      <td>Women's Clothing</td>\n",
       "      <td>Formal Wear</td>\n",
       "      <td>Waistcoats</td>\n",
       "      <td>WSCEG2FYDYFDSVZ6</td>\n",
       "      <td>1200</td>\n",
       "      <td>699</td>\n",
       "      <td>5.0</td>\n",
       "      <td>KAJCI</td>\n",
       "      <td>{\"product_specification\"=&gt;[{\"key\"=&gt;\"Pattern\", ...</td>\n",
       "      <td>Specifications of KAJCI Embroidered Women's Wa...</td>\n",
       "    </tr>\n",
       "    <tr>\n",
       "      <th>5</th>\n",
       "      <td>89fcdddaad50084e395d0928a7426afe</td>\n",
       "      <td>East</td>\n",
       "      <td>03-09-2021</td>\n",
       "      <td>04-09-2021</td>\n",
       "      <td>04-09-2021</td>\n",
       "      <td>Packman 8 x 10 inches Security Bags Without PO...</td>\n",
       "      <td>Pens &amp; Stationery</td>\n",
       "      <td>Office Supplies</td>\n",
       "      <td>Packaging Security Bags</td>\n",
       "      <td>Packman Packaging Security Bags</td>\n",
       "      <td>PKBEGBTRKKHU26YQ</td>\n",
       "      <td>350</td>\n",
       "      <td>298</td>\n",
       "      <td>4.0</td>\n",
       "      <td>PACKMAN</td>\n",
       "      <td>{\"product_specification\"=&gt;[{\"key\"=&gt;\"Bubble Wra...</td>\n",
       "      <td>Key Features of Packman 8 x 10 inches Security...</td>\n",
       "    </tr>\n",
       "    <tr>\n",
       "      <th>6</th>\n",
       "      <td>b9b183aa18d3a721d2ac23e7184525b0</td>\n",
       "      <td>East</td>\n",
       "      <td>03-09-2021</td>\n",
       "      <td>04-09-2021</td>\n",
       "      <td>04-09-2021</td>\n",
       "      <td>Pick Pocket Embroidered Women's Waistcoat</td>\n",
       "      <td>Clothing</td>\n",
       "      <td>Women's Clothing</td>\n",
       "      <td>Formal Wear</td>\n",
       "      <td>Waistcoats</td>\n",
       "      <td>WSCEFUV4TVWT73ZB</td>\n",
       "      <td>899</td>\n",
       "      <td>899</td>\n",
       "      <td>1.0</td>\n",
       "      <td>PICK POCKET</td>\n",
       "      <td>{\"product_specification\"=&gt;[{\"key\"=&gt;\"Pattern\", ...</td>\n",
       "      <td>Specifications of Pick Pocket Embroidered Wome...</td>\n",
       "    </tr>\n",
       "    <tr>\n",
       "      <th>7</th>\n",
       "      <td>dee64864c0419bec80fbbb94d19bc40d</td>\n",
       "      <td>East</td>\n",
       "      <td>03-09-2021</td>\n",
       "      <td>04-09-2021</td>\n",
       "      <td>04-09-2021</td>\n",
       "      <td>Angelfish Silk Potali Potli</td>\n",
       "      <td>Bags, Wallets &amp; Belts</td>\n",
       "      <td>Bags</td>\n",
       "      <td>Pouches and Potlis</td>\n",
       "      <td>Angelfish Pouches and Potlis</td>\n",
       "      <td>PPSEGFYAGD8FYUXV</td>\n",
       "      <td>999</td>\n",
       "      <td>399</td>\n",
       "      <td>4.0</td>\n",
       "      <td>ANGELFISH</td>\n",
       "      <td>{\"product_specification\"=&gt;[{\"key\"=&gt;\"Closure\", ...</td>\n",
       "      <td>Angelfish Silk Potali Potli (Multicolor) Price...</td>\n",
       "    </tr>\n",
       "    <tr>\n",
       "      <th>8</th>\n",
       "      <td>595f55f2c1293f07ea9ec9fa2bb39f46</td>\n",
       "      <td>East</td>\n",
       "      <td>03-09-2021</td>\n",
       "      <td>04-09-2021</td>\n",
       "      <td>04-09-2021</td>\n",
       "      <td>Oye Boy's Dungaree</td>\n",
       "      <td>Clothing</td>\n",
       "      <td>Kids' Clothing</td>\n",
       "      <td>Boys Wear</td>\n",
       "      <td>Dungarees &amp; Jumpsuits</td>\n",
       "      <td>DRPEF2XSFBAP4SUZ</td>\n",
       "      <td>899</td>\n",
       "      <td>764</td>\n",
       "      <td>1.0</td>\n",
       "      <td>OYE</td>\n",
       "      <td>{\"product_specification\"=&gt;[{\"key\"=&gt;\"Number of ...</td>\n",
       "      <td>Specifications of Oye Boy's Dungaree Top Detai...</td>\n",
       "    </tr>\n",
       "    <tr>\n",
       "      <th>9</th>\n",
       "      <td>547b6585272473ae006bcfbdb47b6ae0</td>\n",
       "      <td>West</td>\n",
       "      <td>26-08-2021</td>\n",
       "      <td>27-08-2021</td>\n",
       "      <td>27-08-2021</td>\n",
       "      <td>Nuride Canvas Shoes</td>\n",
       "      <td>Footwear</td>\n",
       "      <td>Women's Footwear</td>\n",
       "      <td>Casual Shoes</td>\n",
       "      <td>Canvas</td>\n",
       "      <td>SHOEGVQCT2ZSGUHY</td>\n",
       "      <td>1999</td>\n",
       "      <td>1349</td>\n",
       "      <td>2.0</td>\n",
       "      <td>NURIDE</td>\n",
       "      <td>{\"product_specification\"=&gt;[{\"key\"=&gt;\"Occasion\",...</td>\n",
       "      <td>Key Features of Nuride Canvas Shoes Material: ...</td>\n",
       "    </tr>\n",
       "  </tbody>\n",
       "</table>\n",
       "</div>"
      ],
      "text/plain": [
       "                   Customer_uniq_id Region  Order_Date Expected_Delivery_Date  \\\n",
       "0  e71017e224688489edfe856f2308806d  East   24-10-2021             25-10-2021   \n",
       "1  6286847ee2da18f587503db49511c539  East   24-10-2021             25-10-2021   \n",
       "2  0686fec9b70e5039583a38119ca0c835   West  24-10-2021             25-10-2021   \n",
       "3  ea2406dc597bee2abb6b867fa668501f   West  24-10-2021             25-10-2021   \n",
       "4  5935ed077915347dc695744df68c565c  East   03-09-2021             04-09-2021   \n",
       "5  89fcdddaad50084e395d0928a7426afe  East   03-09-2021             04-09-2021   \n",
       "6  b9b183aa18d3a721d2ac23e7184525b0  East   03-09-2021             04-09-2021   \n",
       "7  dee64864c0419bec80fbbb94d19bc40d  East   03-09-2021             04-09-2021   \n",
       "8  595f55f2c1293f07ea9ec9fa2bb39f46  East   03-09-2021             04-09-2021   \n",
       "9  547b6585272473ae006bcfbdb47b6ae0   West  26-08-2021             27-08-2021   \n",
       "\n",
       "  Delivered_Date                                       product_name  \\\n",
       "0     25-10-2021  Indcrown Net Embroidered Semi-stitched Lehenga...   \n",
       "1     25-10-2021      Shopmania Music Band A5 Notebook Spiral Bound   \n",
       "2     25-10-2021      Shopmania Music Band A5 Notebook Spiral Bound   \n",
       "3     25-10-2021  Tiara Diaries 2016-2017 Designer LA Kaarta \"TA...   \n",
       "4     04-09-2021                KAJCI Embroidered Women's Waistcoat   \n",
       "5     04-09-2021  Packman 8 x 10 inches Security Bags Without PO...   \n",
       "6     04-09-2021          Pick Pocket Embroidered Women's Waistcoat   \n",
       "7     04-09-2021                        Angelfish Silk Potali Potli   \n",
       "8     04-09-2021                                 Oye Boy's Dungaree   \n",
       "9     27-08-2021                                Nuride Canvas Shoes   \n",
       "\n",
       "    product_main_category    product_subcategory    product_category_filter  \\\n",
       "0               Clothing       Women's Clothing                Ethnic Wear    \n",
       "1      Pens & Stationery    Diaries & Notebooks                  Notebooks    \n",
       "2      Pens & Stationery    Diaries & Notebooks                  Notebooks    \n",
       "3      Pens & Stationery    Diaries & Notebooks                  Notebooks    \n",
       "4               Clothing       Women's Clothing                Formal Wear    \n",
       "5      Pens & Stationery        Office Supplies    Packaging Security Bags    \n",
       "6               Clothing       Women's Clothing                Formal Wear    \n",
       "7  Bags, Wallets & Belts                   Bags         Pouches and Potlis    \n",
       "8               Clothing         Kids' Clothing                  Boys Wear    \n",
       "9               Footwear       Women's Footwear               Casual Shoes    \n",
       "\n",
       "          product_category_subfilter product_unique ID  retail_price  \\\n",
       "0                            Fabric   FABEJX2NHNKCYHKA           999   \n",
       "1                          Designer   DIAEJ6Z8BEDTGGYY           499   \n",
       "2                          Designer   DIAEJ6Z8KQFWDEGH           499   \n",
       "3                          Designer   DIAEJ8FGHZ3K86JU          1000   \n",
       "4                        Waistcoats   WSCEG2FYDYFDSVZ6          1200   \n",
       "5   Packman Packaging Security Bags   PKBEGBTRKKHU26YQ           350   \n",
       "6                        Waistcoats   WSCEFUV4TVWT73ZB           899   \n",
       "7      Angelfish Pouches and Potlis   PPSEGFYAGD8FYUXV           999   \n",
       "8             Dungarees & Jumpsuits   DRPEF2XSFBAP4SUZ           899   \n",
       "9                            Canvas   SHOEGVQCT2ZSGUHY          1999   \n",
       "\n",
       "   discounted_price  product_rating          Brand  \\\n",
       "0               699             4.0       INDCROWN   \n",
       "1               275             1.0      SHOPMANIA   \n",
       "2               275             2.0      SHOPMANIA   \n",
       "3               837             3.0  TIARA DIARIES   \n",
       "4               699             5.0          KAJCI   \n",
       "5               298             4.0        PACKMAN   \n",
       "6               899             1.0    PICK POCKET   \n",
       "7               399             4.0      ANGELFISH   \n",
       "8               764             1.0            OYE   \n",
       "9              1349             2.0         NURIDE   \n",
       "\n",
       "                              product_specifications  \\\n",
       "0  {\"product_specification\"=>[{\"key\"=>\"Fabric\", \"...   \n",
       "1  {\"product_specification\"=>[{\"key\"=>\"Ruling\", \"...   \n",
       "2  {\"product_specification\"=>[{\"key\"=>\"Ruling\", \"...   \n",
       "3  {\"product_specification\"=>[{\"key\"=>\"Ruling\", \"...   \n",
       "4  {\"product_specification\"=>[{\"key\"=>\"Pattern\", ...   \n",
       "5  {\"product_specification\"=>[{\"key\"=>\"Bubble Wra...   \n",
       "6  {\"product_specification\"=>[{\"key\"=>\"Pattern\", ...   \n",
       "7  {\"product_specification\"=>[{\"key\"=>\"Closure\", ...   \n",
       "8  {\"product_specification\"=>[{\"key\"=>\"Number of ...   \n",
       "9  {\"product_specification\"=>[{\"key\"=>\"Occasion\",...   \n",
       "\n",
       "                                         description  \n",
       "0  Key Features of Indcrown Net Embroidered Semi-...  \n",
       "1  Specifications of Shopmania Music Band A5 Note...  \n",
       "2  Specifications of Shopmania Music Band A5 Note...  \n",
       "3  Specifications of Tiara Diaries 2016-2017 Desi...  \n",
       "4  Specifications of KAJCI Embroidered Women's Wa...  \n",
       "5  Key Features of Packman 8 x 10 inches Security...  \n",
       "6  Specifications of Pick Pocket Embroidered Wome...  \n",
       "7  Angelfish Silk Potali Potli (Multicolor) Price...  \n",
       "8  Specifications of Oye Boy's Dungaree Top Detai...  \n",
       "9  Key Features of Nuride Canvas Shoes Material: ...  "
      ]
     },
     "execution_count": 4,
     "metadata": {},
     "output_type": "execute_result"
    }
   ],
   "source": [
    "#1a\n",
    "ECom_Data.head(10)"
   ]
  },
  {
   "cell_type": "markdown",
   "id": "0ba43d74",
   "metadata": {
    "id": "0ba43d74"
   },
   "source": [
    "#### Ans 1 a)"
   ]
  },
  {
   "cell_type": "code",
   "execution_count": 5,
   "id": "6684f5a1",
   "metadata": {
    "colab": {
     "base_uri": "https://localhost:8080/",
     "height": 1000
    },
    "id": "6684f5a1",
    "outputId": "8c64d45c-e36d-46ba-a754-556e070aa634"
   },
   "outputs": [
    {
     "data": {
      "text/html": [
       "<div>\n",
       "<style scoped>\n",
       "    .dataframe tbody tr th:only-of-type {\n",
       "        vertical-align: middle;\n",
       "    }\n",
       "\n",
       "    .dataframe tbody tr th {\n",
       "        vertical-align: top;\n",
       "    }\n",
       "\n",
       "    .dataframe thead th {\n",
       "        text-align: right;\n",
       "    }\n",
       "</style>\n",
       "<table border=\"1\" class=\"dataframe\">\n",
       "  <thead>\n",
       "    <tr style=\"text-align: right;\">\n",
       "      <th></th>\n",
       "      <th>Customer_uniq_id</th>\n",
       "      <th>Region</th>\n",
       "      <th>Order_Date</th>\n",
       "      <th>Expected_Delivery_Date</th>\n",
       "      <th>Delivered_Date</th>\n",
       "      <th>product_name</th>\n",
       "      <th>product_main_category</th>\n",
       "      <th>product_subcategory</th>\n",
       "      <th>product_category_filter</th>\n",
       "      <th>product_category_subfilter</th>\n",
       "      <th>product_unique ID</th>\n",
       "      <th>retail_price</th>\n",
       "      <th>discounted_price</th>\n",
       "      <th>product_rating</th>\n",
       "      <th>Brand</th>\n",
       "      <th>product_specifications</th>\n",
       "      <th>description</th>\n",
       "    </tr>\n",
       "  </thead>\n",
       "  <tbody>\n",
       "    <tr>\n",
       "      <th>8896</th>\n",
       "      <td>4db03bc4ccbe216cf151b2f2b904ba3f</td>\n",
       "      <td>East</td>\n",
       "      <td>01-12-2020</td>\n",
       "      <td>04-12-2020</td>\n",
       "      <td>04-12-2020</td>\n",
       "      <td>Luca Fashion Girls Heels</td>\n",
       "      <td>Footwear</td>\n",
       "      <td>Kids' &amp; Infant Footwear</td>\n",
       "      <td>For Girls</td>\n",
       "      <td>Sandals</td>\n",
       "      <td>SNDEHG3DNVBFGAT5</td>\n",
       "      <td>999</td>\n",
       "      <td>499</td>\n",
       "      <td>4.0</td>\n",
       "      <td>LUCA FASHION</td>\n",
       "      <td>{\"product_specification\"=&gt;[{\"key\"=&gt;\"Occasion\",...</td>\n",
       "      <td>Key Features of Luca Fashion Girls Heels Occas...</td>\n",
       "    </tr>\n",
       "    <tr>\n",
       "      <th>8897</th>\n",
       "      <td>4d4d6aeb13fa253499d0dd45a5abd87e</td>\n",
       "      <td>West</td>\n",
       "      <td>01-12-2020</td>\n",
       "      <td>04-12-2020</td>\n",
       "      <td>04-12-2020</td>\n",
       "      <td>Shoetopia Girls Sandals</td>\n",
       "      <td>Footwear</td>\n",
       "      <td>Kids' &amp; Infant Footwear</td>\n",
       "      <td>For Girls</td>\n",
       "      <td>Sandals</td>\n",
       "      <td>SNDEG7DRWSX8HFXZ</td>\n",
       "      <td>499</td>\n",
       "      <td>399</td>\n",
       "      <td>4.0</td>\n",
       "      <td>SHOETOPIA</td>\n",
       "      <td>{\"product_specification\"=&gt;[{\"key\"=&gt;\"Ideal For\"...</td>\n",
       "      <td>Key Features of Shoetopia Girls Sandals Flats ...</td>\n",
       "    </tr>\n",
       "    <tr>\n",
       "      <th>8898</th>\n",
       "      <td>ea19e7ef703293d3f6c799ca9db4642d</td>\n",
       "      <td>West</td>\n",
       "      <td>01-12-2020</td>\n",
       "      <td>04-12-2020</td>\n",
       "      <td>04-12-2020</td>\n",
       "      <td>SMART TRADERS Girls Sandals</td>\n",
       "      <td>Footwear</td>\n",
       "      <td>Kids' &amp; Infant Footwear</td>\n",
       "      <td>For Girls</td>\n",
       "      <td>Sandals</td>\n",
       "      <td>SNDEG7MZHHKZ58D2</td>\n",
       "      <td>999</td>\n",
       "      <td>499</td>\n",
       "      <td>5.0</td>\n",
       "      <td>SMART TRADERS</td>\n",
       "      <td>{\"product_specification\"=&gt;[{\"key\"=&gt;\"Ideal For\"...</td>\n",
       "      <td>Key Features of SMART TRADERS Girls Sandals Oc...</td>\n",
       "    </tr>\n",
       "    <tr>\n",
       "      <th>8899</th>\n",
       "      <td>19a53a958992fb575acffb5d41e7ef9e</td>\n",
       "      <td>East</td>\n",
       "      <td>01-12-2020</td>\n",
       "      <td>04-12-2020</td>\n",
       "      <td>04-12-2020</td>\n",
       "      <td>Beanz Girls Flats</td>\n",
       "      <td>Footwear</td>\n",
       "      <td>Kids' &amp; Infant Footwear</td>\n",
       "      <td>For Girls</td>\n",
       "      <td>Sandals</td>\n",
       "      <td>SNDEG7DYVFWHZBC4</td>\n",
       "      <td>1299</td>\n",
       "      <td>1299</td>\n",
       "      <td>3.0</td>\n",
       "      <td>BEANZ</td>\n",
       "      <td>{\"product_specification\"=&gt;[{\"key\"=&gt;\"Occasion\",...</td>\n",
       "      <td>Key Features of Beanz Girls Flats Occasion: Ca...</td>\n",
       "    </tr>\n",
       "    <tr>\n",
       "      <th>8900</th>\n",
       "      <td>09abab80c8dfdc6f268e0a6f05a0be11</td>\n",
       "      <td>North</td>\n",
       "      <td>01-12-2020</td>\n",
       "      <td>04-12-2020</td>\n",
       "      <td>04-12-2020</td>\n",
       "      <td>Nova KT 728S Electric Kettle</td>\n",
       "      <td>Home &amp; Kitchen</td>\n",
       "      <td>Kitchen Appliances</td>\n",
       "      <td>Electric Jug(heater)/Travel Kettles</td>\n",
       "      <td>Nova Electric Jug(heater)/Travel Kettles</td>\n",
       "      <td>EKTDG5C5QSADZZ8J</td>\n",
       "      <td>3195</td>\n",
       "      <td>699</td>\n",
       "      <td>3.6</td>\n",
       "      <td>NOVA</td>\n",
       "      <td>{\"product_specification\"=&gt;[{\"key\"=&gt;\"Brand\", \"v...</td>\n",
       "      <td>Specifications of Nova KT 728S Electric Kettle...</td>\n",
       "    </tr>\n",
       "    <tr>\n",
       "      <th>8901</th>\n",
       "      <td>90d30478255e23621e8929ed15c2f6e4</td>\n",
       "      <td>South</td>\n",
       "      <td>01-12-2020</td>\n",
       "      <td>04-12-2020</td>\n",
       "      <td>04-12-2020</td>\n",
       "      <td>Sinina Chanderi Embroidered Salwar Suit Dupatt...</td>\n",
       "      <td>Clothing</td>\n",
       "      <td>Women's Clothing</td>\n",
       "      <td>Ethnic Wear</td>\n",
       "      <td>Fabric</td>\n",
       "      <td>FABEGGHHDFMY8BZU</td>\n",
       "      <td>2980</td>\n",
       "      <td>1490</td>\n",
       "      <td>3.0</td>\n",
       "      <td>SININA</td>\n",
       "      <td>{\"product_specification\"=&gt;[{\"key\"=&gt;\"Fabric\", \"...</td>\n",
       "      <td>Key Features of Sinina Chanderi Embroidered Sa...</td>\n",
       "    </tr>\n",
       "    <tr>\n",
       "      <th>8902</th>\n",
       "      <td>20a73e3f41490a73ceeba5f17658db8f</td>\n",
       "      <td>West</td>\n",
       "      <td>01-12-2020</td>\n",
       "      <td>04-12-2020</td>\n",
       "      <td>04-12-2020</td>\n",
       "      <td>Aarushi Fashion Chanderi Embroidered Salwar Su...</td>\n",
       "      <td>Clothing</td>\n",
       "      <td>Women's Clothing</td>\n",
       "      <td>Ethnic Wear</td>\n",
       "      <td>Fabric</td>\n",
       "      <td>FABEG8GFDUWRSNU3</td>\n",
       "      <td>2600</td>\n",
       "      <td>1300</td>\n",
       "      <td>1.0</td>\n",
       "      <td>AARUSHI FASHION</td>\n",
       "      <td>{\"product_specification\"=&gt;[{\"key\"=&gt;\"Fabric\", \"...</td>\n",
       "      <td>Key Features of Aarushi Fashion Chanderi Embro...</td>\n",
       "    </tr>\n",
       "    <tr>\n",
       "      <th>8903</th>\n",
       "      <td>5c1554cd45f9d538c2c6947dbdd59c75</td>\n",
       "      <td>East</td>\n",
       "      <td>01-12-2020</td>\n",
       "      <td>04-12-2020</td>\n",
       "      <td>04-12-2020</td>\n",
       "      <td>Ambika Lahenga Embroidered Lehenga, Choli and ...</td>\n",
       "      <td>Clothing</td>\n",
       "      <td>Women's Clothing</td>\n",
       "      <td>Ethnic Wear</td>\n",
       "      <td>Lehenga Cholis</td>\n",
       "      <td>LEHEGGEHYN4G2RPW</td>\n",
       "      <td>39992</td>\n",
       "      <td>24995</td>\n",
       "      <td>1.0</td>\n",
       "      <td>AMBIKA LAHENGA</td>\n",
       "      <td>{\"product_specification\"=&gt;[{\"key\"=&gt;\"Fabric\", \"...</td>\n",
       "      <td>Key Features of Ambika Lahenga Embroidered Leh...</td>\n",
       "    </tr>\n",
       "    <tr>\n",
       "      <th>8904</th>\n",
       "      <td>6b737a4deca1ed0e56c179e66036e994</td>\n",
       "      <td>West</td>\n",
       "      <td>01-12-2020</td>\n",
       "      <td>04-12-2020</td>\n",
       "      <td>04-12-2020</td>\n",
       "      <td>Sinina Chanderi Embroidered Salwar Suit Dupatt...</td>\n",
       "      <td>Clothing</td>\n",
       "      <td>Women's Clothing</td>\n",
       "      <td>Ethnic Wear</td>\n",
       "      <td>Fabric</td>\n",
       "      <td>FABEGGHHGSVCHGFV</td>\n",
       "      <td>2000</td>\n",
       "      <td>1000</td>\n",
       "      <td>3.0</td>\n",
       "      <td>SININA</td>\n",
       "      <td>{\"product_specification\"=&gt;[{\"key\"=&gt;\"Fabric\", \"...</td>\n",
       "      <td>Key Features of Sinina Chanderi Embroidered Sa...</td>\n",
       "    </tr>\n",
       "    <tr>\n",
       "      <th>8905</th>\n",
       "      <td>a5235ac28d3d5487f54025f9d6b57433</td>\n",
       "      <td>North</td>\n",
       "      <td>01-12-2020</td>\n",
       "      <td>04-12-2020</td>\n",
       "      <td>04-12-2020</td>\n",
       "      <td>Aarushi Fashion Silk Striped Salwar Suit Dupat...</td>\n",
       "      <td>Clothing</td>\n",
       "      <td>Women's Clothing</td>\n",
       "      <td>Ethnic Wear</td>\n",
       "      <td>Fabric</td>\n",
       "      <td>FABEG8GYDAABECZH</td>\n",
       "      <td>2800</td>\n",
       "      <td>1350</td>\n",
       "      <td>4.0</td>\n",
       "      <td>AARUSHI FASHION</td>\n",
       "      <td>{\"product_specification\"=&gt;[{\"key\"=&gt;\"Fabric\", \"...</td>\n",
       "      <td>Key Features of Aarushi Fashion Silk Striped S...</td>\n",
       "    </tr>\n",
       "  </tbody>\n",
       "</table>\n",
       "</div>"
      ],
      "text/plain": [
       "                      Customer_uniq_id Region  Order_Date  \\\n",
       "8896  4db03bc4ccbe216cf151b2f2b904ba3f  East   01-12-2020   \n",
       "8897  4d4d6aeb13fa253499d0dd45a5abd87e   West  01-12-2020   \n",
       "8898  ea19e7ef703293d3f6c799ca9db4642d   West  01-12-2020   \n",
       "8899  19a53a958992fb575acffb5d41e7ef9e  East   01-12-2020   \n",
       "8900  09abab80c8dfdc6f268e0a6f05a0be11  North  01-12-2020   \n",
       "8901  90d30478255e23621e8929ed15c2f6e4  South  01-12-2020   \n",
       "8902  20a73e3f41490a73ceeba5f17658db8f   West  01-12-2020   \n",
       "8903  5c1554cd45f9d538c2c6947dbdd59c75  East   01-12-2020   \n",
       "8904  6b737a4deca1ed0e56c179e66036e994   West  01-12-2020   \n",
       "8905  a5235ac28d3d5487f54025f9d6b57433  North  01-12-2020   \n",
       "\n",
       "     Expected_Delivery_Date Delivered_Date  \\\n",
       "8896             04-12-2020     04-12-2020   \n",
       "8897             04-12-2020     04-12-2020   \n",
       "8898             04-12-2020     04-12-2020   \n",
       "8899             04-12-2020     04-12-2020   \n",
       "8900             04-12-2020     04-12-2020   \n",
       "8901             04-12-2020     04-12-2020   \n",
       "8902             04-12-2020     04-12-2020   \n",
       "8903             04-12-2020     04-12-2020   \n",
       "8904             04-12-2020     04-12-2020   \n",
       "8905             04-12-2020     04-12-2020   \n",
       "\n",
       "                                           product_name product_main_category  \\\n",
       "8896                           Luca Fashion Girls Heels             Footwear    \n",
       "8897                            Shoetopia Girls Sandals             Footwear    \n",
       "8898                        SMART TRADERS Girls Sandals             Footwear    \n",
       "8899                                  Beanz Girls Flats             Footwear    \n",
       "8900                       Nova KT 728S Electric Kettle       Home & Kitchen    \n",
       "8901  Sinina Chanderi Embroidered Salwar Suit Dupatt...             Clothing    \n",
       "8902  Aarushi Fashion Chanderi Embroidered Salwar Su...             Clothing    \n",
       "8903  Ambika Lahenga Embroidered Lehenga, Choli and ...             Clothing    \n",
       "8904  Sinina Chanderi Embroidered Salwar Suit Dupatt...             Clothing    \n",
       "8905  Aarushi Fashion Silk Striped Salwar Suit Dupat...             Clothing    \n",
       "\n",
       "            product_subcategory                product_category_filter  \\\n",
       "8896   Kids' & Infant Footwear                              For Girls    \n",
       "8897   Kids' & Infant Footwear                              For Girls    \n",
       "8898   Kids' & Infant Footwear                              For Girls    \n",
       "8899   Kids' & Infant Footwear                              For Girls    \n",
       "8900        Kitchen Appliances    Electric Jug(heater)/Travel Kettles    \n",
       "8901          Women's Clothing                            Ethnic Wear    \n",
       "8902          Women's Clothing                            Ethnic Wear    \n",
       "8903          Women's Clothing                            Ethnic Wear    \n",
       "8904          Women's Clothing                            Ethnic Wear    \n",
       "8905          Women's Clothing                            Ethnic Wear    \n",
       "\n",
       "                      product_category_subfilter product_unique ID  \\\n",
       "8896                                    Sandals   SNDEHG3DNVBFGAT5   \n",
       "8897                                    Sandals   SNDEG7DRWSX8HFXZ   \n",
       "8898                                    Sandals   SNDEG7MZHHKZ58D2   \n",
       "8899                                    Sandals   SNDEG7DYVFWHZBC4   \n",
       "8900   Nova Electric Jug(heater)/Travel Kettles   EKTDG5C5QSADZZ8J   \n",
       "8901                                     Fabric   FABEGGHHDFMY8BZU   \n",
       "8902                                     Fabric   FABEG8GFDUWRSNU3   \n",
       "8903                             Lehenga Cholis   LEHEGGEHYN4G2RPW   \n",
       "8904                                     Fabric   FABEGGHHGSVCHGFV   \n",
       "8905                                     Fabric   FABEG8GYDAABECZH   \n",
       "\n",
       "      retail_price  discounted_price  product_rating            Brand  \\\n",
       "8896           999               499             4.0     LUCA FASHION   \n",
       "8897           499               399             4.0        SHOETOPIA   \n",
       "8898           999               499             5.0    SMART TRADERS   \n",
       "8899          1299              1299             3.0            BEANZ   \n",
       "8900          3195               699             3.6             NOVA   \n",
       "8901          2980              1490             3.0           SININA   \n",
       "8902          2600              1300             1.0  AARUSHI FASHION   \n",
       "8903         39992             24995             1.0   AMBIKA LAHENGA   \n",
       "8904          2000              1000             3.0           SININA   \n",
       "8905          2800              1350             4.0  AARUSHI FASHION   \n",
       "\n",
       "                                 product_specifications  \\\n",
       "8896  {\"product_specification\"=>[{\"key\"=>\"Occasion\",...   \n",
       "8897  {\"product_specification\"=>[{\"key\"=>\"Ideal For\"...   \n",
       "8898  {\"product_specification\"=>[{\"key\"=>\"Ideal For\"...   \n",
       "8899  {\"product_specification\"=>[{\"key\"=>\"Occasion\",...   \n",
       "8900  {\"product_specification\"=>[{\"key\"=>\"Brand\", \"v...   \n",
       "8901  {\"product_specification\"=>[{\"key\"=>\"Fabric\", \"...   \n",
       "8902  {\"product_specification\"=>[{\"key\"=>\"Fabric\", \"...   \n",
       "8903  {\"product_specification\"=>[{\"key\"=>\"Fabric\", \"...   \n",
       "8904  {\"product_specification\"=>[{\"key\"=>\"Fabric\", \"...   \n",
       "8905  {\"product_specification\"=>[{\"key\"=>\"Fabric\", \"...   \n",
       "\n",
       "                                            description  \n",
       "8896  Key Features of Luca Fashion Girls Heels Occas...  \n",
       "8897  Key Features of Shoetopia Girls Sandals Flats ...  \n",
       "8898  Key Features of SMART TRADERS Girls Sandals Oc...  \n",
       "8899  Key Features of Beanz Girls Flats Occasion: Ca...  \n",
       "8900  Specifications of Nova KT 728S Electric Kettle...  \n",
       "8901  Key Features of Sinina Chanderi Embroidered Sa...  \n",
       "8902  Key Features of Aarushi Fashion Chanderi Embro...  \n",
       "8903  Key Features of Ambika Lahenga Embroidered Leh...  \n",
       "8904  Key Features of Sinina Chanderi Embroidered Sa...  \n",
       "8905  Key Features of Aarushi Fashion Silk Striped S...  "
      ]
     },
     "execution_count": 5,
     "metadata": {},
     "output_type": "execute_result"
    }
   ],
   "source": [
    "#1a\n",
    "ECom_Data.tail(10)"
   ]
  },
  {
   "cell_type": "markdown",
   "id": "48baeda6",
   "metadata": {
    "id": "48baeda6"
   },
   "source": [
    "#### Ans 1 b)"
   ]
  },
  {
   "cell_type": "code",
   "execution_count": 6,
   "id": "0ac3ef5d",
   "metadata": {
    "id": "0ac3ef5d",
    "outputId": "67032348-1ed1-4396-bdf9-3f56cfb65f66"
   },
   "outputs": [
    {
     "data": {
      "text/plain": [
       "(8906, 17)"
      ]
     },
     "execution_count": 6,
     "metadata": {},
     "output_type": "execute_result"
    }
   ],
   "source": [
    "#1st method\n",
    "ECom_Data.shape"
   ]
  },
  {
   "cell_type": "code",
   "execution_count": 7,
   "id": "0935f7a7",
   "metadata": {
    "id": "0935f7a7",
    "outputId": "be801d9a-2b8b-4eac-a08b-aa3c22345ec0"
   },
   "outputs": [
    {
     "name": "stdout",
     "output_type": "stream",
     "text": [
      "<class 'pandas.core.frame.DataFrame'>\n",
      "RangeIndex: 8906 entries, 0 to 8905\n",
      "Data columns (total 17 columns):\n",
      " #   Column                      Non-Null Count  Dtype  \n",
      "---  ------                      --------------  -----  \n",
      " 0   Customer_uniq_id            8906 non-null   object \n",
      " 1   Region                      8906 non-null   object \n",
      " 2   Order_Date                  8906 non-null   object \n",
      " 3   Expected_Delivery_Date      8906 non-null   object \n",
      " 4   Delivered_Date              8906 non-null   object \n",
      " 5   product_name                8906 non-null   object \n",
      " 6   product_main_category       8906 non-null   object \n",
      " 7   product_subcategory         8906 non-null   object \n",
      " 8   product_category_filter     8906 non-null   object \n",
      " 9   product_category_subfilter  8906 non-null   object \n",
      " 10  product_unique ID           8906 non-null   object \n",
      " 11  retail_price                8906 non-null   int64  \n",
      " 12  discounted_price            8906 non-null   int64  \n",
      " 13  product_rating              8906 non-null   float64\n",
      " 14  Brand                       8906 non-null   object \n",
      " 15  product_specifications      8906 non-null   object \n",
      " 16  description                 8906 non-null   object \n",
      "dtypes: float64(1), int64(2), object(14)\n",
      "memory usage: 1.2+ MB\n"
     ]
    }
   ],
   "source": [
    "#2nd method\n",
    "ECom_Data.info()"
   ]
  },
  {
   "cell_type": "markdown",
   "id": "868e6129",
   "metadata": {
    "id": "868e6129"
   },
   "source": [
    "There are 8906 rows and 17 columns"
   ]
  },
  {
   "cell_type": "markdown",
   "id": "6aaa54a0",
   "metadata": {
    "id": "6aaa54a0"
   },
   "source": [
    "#### Ans  1 c)"
   ]
  },
  {
   "cell_type": "markdown",
   "id": "fdaecb05",
   "metadata": {
    "id": "fdaecb05"
   },
   "source": [
    "From the above code we know that there are 14 object data types."
   ]
  },
  {
   "cell_type": "markdown",
   "id": "5e63573c",
   "metadata": {
    "id": "5e63573c"
   },
   "source": [
    "### Ans 1 d)"
   ]
  },
  {
   "cell_type": "markdown",
   "id": "4904d0ce",
   "metadata": {
    "id": "4904d0ce"
   },
   "source": [
    "There is no boolean data type."
   ]
  },
  {
   "cell_type": "markdown",
   "id": "cc5d76f1",
   "metadata": {
    "id": "cc5d76f1"
   },
   "source": [
    "<font color='blue'>\n",
    "    <font size = 5>\n",
    " Once you are familiar with the data, you may decide that not all features are of use to you and you may want to delete the non-informative features (columns)</font>"
   ]
  },
  {
   "cell_type": "markdown",
   "id": "90db65ce",
   "metadata": {
    "id": "90db65ce"
   },
   "source": [
    "## Q 2.\tEliminating the non-informative columns.\n",
    "## a)\tDrop the columns product_specifications and description. (2 marks)\n",
    "## b)\tWhich method or function is used to permanently delete the columns mentioned in part (a)? Write the code explicitly (2 marks)\n",
    "### Note: Use the markdown feature of Python to explain your answer.\n"
   ]
  },
  {
   "cell_type": "markdown",
   "id": "e0e7e762",
   "metadata": {
    "id": "e0e7e762"
   },
   "source": [
    "### Ans 2 a)"
   ]
  },
  {
   "cell_type": "code",
   "execution_count": 8,
   "id": "35ad0821",
   "metadata": {
    "colab": {
     "base_uri": "https://localhost:8080/",
     "height": 1000
    },
    "id": "35ad0821",
    "outputId": "4f841ecd-ddf8-468f-8bfb-90458934f216"
   },
   "outputs": [
    {
     "data": {
      "text/html": [
       "<div>\n",
       "<style scoped>\n",
       "    .dataframe tbody tr th:only-of-type {\n",
       "        vertical-align: middle;\n",
       "    }\n",
       "\n",
       "    .dataframe tbody tr th {\n",
       "        vertical-align: top;\n",
       "    }\n",
       "\n",
       "    .dataframe thead th {\n",
       "        text-align: right;\n",
       "    }\n",
       "</style>\n",
       "<table border=\"1\" class=\"dataframe\">\n",
       "  <thead>\n",
       "    <tr style=\"text-align: right;\">\n",
       "      <th></th>\n",
       "      <th>Customer_uniq_id</th>\n",
       "      <th>Region</th>\n",
       "      <th>Order_Date</th>\n",
       "      <th>Expected_Delivery_Date</th>\n",
       "      <th>Delivered_Date</th>\n",
       "      <th>product_name</th>\n",
       "      <th>product_main_category</th>\n",
       "      <th>product_subcategory</th>\n",
       "      <th>product_category_filter</th>\n",
       "      <th>product_category_subfilter</th>\n",
       "      <th>product_unique ID</th>\n",
       "      <th>retail_price</th>\n",
       "      <th>discounted_price</th>\n",
       "      <th>product_rating</th>\n",
       "      <th>Brand</th>\n",
       "    </tr>\n",
       "  </thead>\n",
       "  <tbody>\n",
       "    <tr>\n",
       "      <th>0</th>\n",
       "      <td>e71017e224688489edfe856f2308806d</td>\n",
       "      <td>East</td>\n",
       "      <td>24-10-2021</td>\n",
       "      <td>25-10-2021</td>\n",
       "      <td>25-10-2021</td>\n",
       "      <td>Indcrown Net Embroidered Semi-stitched Lehenga...</td>\n",
       "      <td>Clothing</td>\n",
       "      <td>Women's Clothing</td>\n",
       "      <td>Ethnic Wear</td>\n",
       "      <td>Fabric</td>\n",
       "      <td>FABEJX2NHNKCYHKA</td>\n",
       "      <td>999</td>\n",
       "      <td>699</td>\n",
       "      <td>4.0</td>\n",
       "      <td>INDCROWN</td>\n",
       "    </tr>\n",
       "    <tr>\n",
       "      <th>1</th>\n",
       "      <td>6286847ee2da18f587503db49511c539</td>\n",
       "      <td>East</td>\n",
       "      <td>24-10-2021</td>\n",
       "      <td>25-10-2021</td>\n",
       "      <td>25-10-2021</td>\n",
       "      <td>Shopmania Music Band A5 Notebook Spiral Bound</td>\n",
       "      <td>Pens &amp; Stationery</td>\n",
       "      <td>Diaries &amp; Notebooks</td>\n",
       "      <td>Notebooks</td>\n",
       "      <td>Designer</td>\n",
       "      <td>DIAEJ6Z8BEDTGGYY</td>\n",
       "      <td>499</td>\n",
       "      <td>275</td>\n",
       "      <td>1.0</td>\n",
       "      <td>SHOPMANIA</td>\n",
       "    </tr>\n",
       "    <tr>\n",
       "      <th>2</th>\n",
       "      <td>0686fec9b70e5039583a38119ca0c835</td>\n",
       "      <td>West</td>\n",
       "      <td>24-10-2021</td>\n",
       "      <td>25-10-2021</td>\n",
       "      <td>25-10-2021</td>\n",
       "      <td>Shopmania Music Band A5 Notebook Spiral Bound</td>\n",
       "      <td>Pens &amp; Stationery</td>\n",
       "      <td>Diaries &amp; Notebooks</td>\n",
       "      <td>Notebooks</td>\n",
       "      <td>Designer</td>\n",
       "      <td>DIAEJ6Z8KQFWDEGH</td>\n",
       "      <td>499</td>\n",
       "      <td>275</td>\n",
       "      <td>2.0</td>\n",
       "      <td>SHOPMANIA</td>\n",
       "    </tr>\n",
       "    <tr>\n",
       "      <th>3</th>\n",
       "      <td>ea2406dc597bee2abb6b867fa668501f</td>\n",
       "      <td>West</td>\n",
       "      <td>24-10-2021</td>\n",
       "      <td>25-10-2021</td>\n",
       "      <td>25-10-2021</td>\n",
       "      <td>Tiara Diaries 2016-2017 Designer LA Kaarta \"TA...</td>\n",
       "      <td>Pens &amp; Stationery</td>\n",
       "      <td>Diaries &amp; Notebooks</td>\n",
       "      <td>Notebooks</td>\n",
       "      <td>Designer</td>\n",
       "      <td>DIAEJ8FGHZ3K86JU</td>\n",
       "      <td>1000</td>\n",
       "      <td>837</td>\n",
       "      <td>3.0</td>\n",
       "      <td>TIARA DIARIES</td>\n",
       "    </tr>\n",
       "    <tr>\n",
       "      <th>4</th>\n",
       "      <td>5935ed077915347dc695744df68c565c</td>\n",
       "      <td>East</td>\n",
       "      <td>03-09-2021</td>\n",
       "      <td>04-09-2021</td>\n",
       "      <td>04-09-2021</td>\n",
       "      <td>KAJCI Embroidered Women's Waistcoat</td>\n",
       "      <td>Clothing</td>\n",
       "      <td>Women's Clothing</td>\n",
       "      <td>Formal Wear</td>\n",
       "      <td>Waistcoats</td>\n",
       "      <td>WSCEG2FYDYFDSVZ6</td>\n",
       "      <td>1200</td>\n",
       "      <td>699</td>\n",
       "      <td>5.0</td>\n",
       "      <td>KAJCI</td>\n",
       "    </tr>\n",
       "    <tr>\n",
       "      <th>...</th>\n",
       "      <td>...</td>\n",
       "      <td>...</td>\n",
       "      <td>...</td>\n",
       "      <td>...</td>\n",
       "      <td>...</td>\n",
       "      <td>...</td>\n",
       "      <td>...</td>\n",
       "      <td>...</td>\n",
       "      <td>...</td>\n",
       "      <td>...</td>\n",
       "      <td>...</td>\n",
       "      <td>...</td>\n",
       "      <td>...</td>\n",
       "      <td>...</td>\n",
       "      <td>...</td>\n",
       "    </tr>\n",
       "    <tr>\n",
       "      <th>8901</th>\n",
       "      <td>90d30478255e23621e8929ed15c2f6e4</td>\n",
       "      <td>South</td>\n",
       "      <td>01-12-2020</td>\n",
       "      <td>04-12-2020</td>\n",
       "      <td>04-12-2020</td>\n",
       "      <td>Sinina Chanderi Embroidered Salwar Suit Dupatt...</td>\n",
       "      <td>Clothing</td>\n",
       "      <td>Women's Clothing</td>\n",
       "      <td>Ethnic Wear</td>\n",
       "      <td>Fabric</td>\n",
       "      <td>FABEGGHHDFMY8BZU</td>\n",
       "      <td>2980</td>\n",
       "      <td>1490</td>\n",
       "      <td>3.0</td>\n",
       "      <td>SININA</td>\n",
       "    </tr>\n",
       "    <tr>\n",
       "      <th>8902</th>\n",
       "      <td>20a73e3f41490a73ceeba5f17658db8f</td>\n",
       "      <td>West</td>\n",
       "      <td>01-12-2020</td>\n",
       "      <td>04-12-2020</td>\n",
       "      <td>04-12-2020</td>\n",
       "      <td>Aarushi Fashion Chanderi Embroidered Salwar Su...</td>\n",
       "      <td>Clothing</td>\n",
       "      <td>Women's Clothing</td>\n",
       "      <td>Ethnic Wear</td>\n",
       "      <td>Fabric</td>\n",
       "      <td>FABEG8GFDUWRSNU3</td>\n",
       "      <td>2600</td>\n",
       "      <td>1300</td>\n",
       "      <td>1.0</td>\n",
       "      <td>AARUSHI FASHION</td>\n",
       "    </tr>\n",
       "    <tr>\n",
       "      <th>8903</th>\n",
       "      <td>5c1554cd45f9d538c2c6947dbdd59c75</td>\n",
       "      <td>East</td>\n",
       "      <td>01-12-2020</td>\n",
       "      <td>04-12-2020</td>\n",
       "      <td>04-12-2020</td>\n",
       "      <td>Ambika Lahenga Embroidered Lehenga, Choli and ...</td>\n",
       "      <td>Clothing</td>\n",
       "      <td>Women's Clothing</td>\n",
       "      <td>Ethnic Wear</td>\n",
       "      <td>Lehenga Cholis</td>\n",
       "      <td>LEHEGGEHYN4G2RPW</td>\n",
       "      <td>39992</td>\n",
       "      <td>24995</td>\n",
       "      <td>1.0</td>\n",
       "      <td>AMBIKA LAHENGA</td>\n",
       "    </tr>\n",
       "    <tr>\n",
       "      <th>8904</th>\n",
       "      <td>6b737a4deca1ed0e56c179e66036e994</td>\n",
       "      <td>West</td>\n",
       "      <td>01-12-2020</td>\n",
       "      <td>04-12-2020</td>\n",
       "      <td>04-12-2020</td>\n",
       "      <td>Sinina Chanderi Embroidered Salwar Suit Dupatt...</td>\n",
       "      <td>Clothing</td>\n",
       "      <td>Women's Clothing</td>\n",
       "      <td>Ethnic Wear</td>\n",
       "      <td>Fabric</td>\n",
       "      <td>FABEGGHHGSVCHGFV</td>\n",
       "      <td>2000</td>\n",
       "      <td>1000</td>\n",
       "      <td>3.0</td>\n",
       "      <td>SININA</td>\n",
       "    </tr>\n",
       "    <tr>\n",
       "      <th>8905</th>\n",
       "      <td>a5235ac28d3d5487f54025f9d6b57433</td>\n",
       "      <td>North</td>\n",
       "      <td>01-12-2020</td>\n",
       "      <td>04-12-2020</td>\n",
       "      <td>04-12-2020</td>\n",
       "      <td>Aarushi Fashion Silk Striped Salwar Suit Dupat...</td>\n",
       "      <td>Clothing</td>\n",
       "      <td>Women's Clothing</td>\n",
       "      <td>Ethnic Wear</td>\n",
       "      <td>Fabric</td>\n",
       "      <td>FABEG8GYDAABECZH</td>\n",
       "      <td>2800</td>\n",
       "      <td>1350</td>\n",
       "      <td>4.0</td>\n",
       "      <td>AARUSHI FASHION</td>\n",
       "    </tr>\n",
       "  </tbody>\n",
       "</table>\n",
       "<p>8906 rows × 15 columns</p>\n",
       "</div>"
      ],
      "text/plain": [
       "                      Customer_uniq_id Region  Order_Date  \\\n",
       "0     e71017e224688489edfe856f2308806d  East   24-10-2021   \n",
       "1     6286847ee2da18f587503db49511c539  East   24-10-2021   \n",
       "2     0686fec9b70e5039583a38119ca0c835   West  24-10-2021   \n",
       "3     ea2406dc597bee2abb6b867fa668501f   West  24-10-2021   \n",
       "4     5935ed077915347dc695744df68c565c  East   03-09-2021   \n",
       "...                                ...    ...         ...   \n",
       "8901  90d30478255e23621e8929ed15c2f6e4  South  01-12-2020   \n",
       "8902  20a73e3f41490a73ceeba5f17658db8f   West  01-12-2020   \n",
       "8903  5c1554cd45f9d538c2c6947dbdd59c75  East   01-12-2020   \n",
       "8904  6b737a4deca1ed0e56c179e66036e994   West  01-12-2020   \n",
       "8905  a5235ac28d3d5487f54025f9d6b57433  North  01-12-2020   \n",
       "\n",
       "     Expected_Delivery_Date Delivered_Date  \\\n",
       "0                25-10-2021     25-10-2021   \n",
       "1                25-10-2021     25-10-2021   \n",
       "2                25-10-2021     25-10-2021   \n",
       "3                25-10-2021     25-10-2021   \n",
       "4                04-09-2021     04-09-2021   \n",
       "...                     ...            ...   \n",
       "8901             04-12-2020     04-12-2020   \n",
       "8902             04-12-2020     04-12-2020   \n",
       "8903             04-12-2020     04-12-2020   \n",
       "8904             04-12-2020     04-12-2020   \n",
       "8905             04-12-2020     04-12-2020   \n",
       "\n",
       "                                           product_name product_main_category  \\\n",
       "0     Indcrown Net Embroidered Semi-stitched Lehenga...             Clothing    \n",
       "1         Shopmania Music Band A5 Notebook Spiral Bound    Pens & Stationery    \n",
       "2         Shopmania Music Band A5 Notebook Spiral Bound    Pens & Stationery    \n",
       "3     Tiara Diaries 2016-2017 Designer LA Kaarta \"TA...    Pens & Stationery    \n",
       "4                   KAJCI Embroidered Women's Waistcoat             Clothing    \n",
       "...                                                 ...                   ...   \n",
       "8901  Sinina Chanderi Embroidered Salwar Suit Dupatt...             Clothing    \n",
       "8902  Aarushi Fashion Chanderi Embroidered Salwar Su...             Clothing    \n",
       "8903  Ambika Lahenga Embroidered Lehenga, Choli and ...             Clothing    \n",
       "8904  Sinina Chanderi Embroidered Salwar Suit Dupatt...             Clothing    \n",
       "8905  Aarushi Fashion Silk Striped Salwar Suit Dupat...             Clothing    \n",
       "\n",
       "        product_subcategory product_category_filter  \\\n",
       "0         Women's Clothing             Ethnic Wear    \n",
       "1      Diaries & Notebooks               Notebooks    \n",
       "2      Diaries & Notebooks               Notebooks    \n",
       "3      Diaries & Notebooks               Notebooks    \n",
       "4         Women's Clothing             Formal Wear    \n",
       "...                     ...                     ...   \n",
       "8901      Women's Clothing             Ethnic Wear    \n",
       "8902      Women's Clothing             Ethnic Wear    \n",
       "8903      Women's Clothing             Ethnic Wear    \n",
       "8904      Women's Clothing             Ethnic Wear    \n",
       "8905      Women's Clothing             Ethnic Wear    \n",
       "\n",
       "     product_category_subfilter product_unique ID  retail_price  \\\n",
       "0                       Fabric   FABEJX2NHNKCYHKA           999   \n",
       "1                     Designer   DIAEJ6Z8BEDTGGYY           499   \n",
       "2                     Designer   DIAEJ6Z8KQFWDEGH           499   \n",
       "3                     Designer   DIAEJ8FGHZ3K86JU          1000   \n",
       "4                   Waistcoats   WSCEG2FYDYFDSVZ6          1200   \n",
       "...                         ...               ...           ...   \n",
       "8901                    Fabric   FABEGGHHDFMY8BZU          2980   \n",
       "8902                    Fabric   FABEG8GFDUWRSNU3          2600   \n",
       "8903            Lehenga Cholis   LEHEGGEHYN4G2RPW         39992   \n",
       "8904                    Fabric   FABEGGHHGSVCHGFV          2000   \n",
       "8905                    Fabric   FABEG8GYDAABECZH          2800   \n",
       "\n",
       "      discounted_price  product_rating            Brand  \n",
       "0                  699             4.0         INDCROWN  \n",
       "1                  275             1.0        SHOPMANIA  \n",
       "2                  275             2.0        SHOPMANIA  \n",
       "3                  837             3.0    TIARA DIARIES  \n",
       "4                  699             5.0            KAJCI  \n",
       "...                ...             ...              ...  \n",
       "8901              1490             3.0           SININA  \n",
       "8902              1300             1.0  AARUSHI FASHION  \n",
       "8903             24995             1.0   AMBIKA LAHENGA  \n",
       "8904              1000             3.0           SININA  \n",
       "8905              1350             4.0  AARUSHI FASHION  \n",
       "\n",
       "[8906 rows x 15 columns]"
      ]
     },
     "execution_count": 8,
     "metadata": {},
     "output_type": "execute_result"
    }
   ],
   "source": [
    "ECom_Data.drop(ECom_Data.columns[[15,16]], axis=1, inplace=True)\n",
    "ECom_Data"
   ]
  },
  {
   "cell_type": "code",
   "execution_count": null,
   "id": "761f430b",
   "metadata": {
    "id": "761f430b"
   },
   "outputs": [],
   "source": []
  },
  {
   "cell_type": "markdown",
   "id": "e6159f6a",
   "metadata": {
    "id": "e6159f6a"
   },
   "source": [
    "### Ans 2 b)"
   ]
  },
  {
   "cell_type": "code",
   "execution_count": 9,
   "id": "47a63265",
   "metadata": {
    "id": "47a63265"
   },
   "outputs": [],
   "source": [
    "#Q. Which method or function is used to permanently delete the columns mentioned in part (a)? Write the code explicitly"
   ]
  },
  {
   "cell_type": "markdown",
   "id": "7cdd4a4d",
   "metadata": {
    "id": "7cdd4a4d"
   },
   "source": [
    "- The drop method is used to permanently delete the columns mentioned in part (a)\n",
    "- ECom_Data.drop(ECom_Data.columns[[15,16]], axis=1, inplace=True)\n",
    "- We know the column index numbers from the ECom_Data.info() code.\n",
    "- The index numbers can also be retrieved before deleting using Index code\n"
   ]
  },
  {
   "cell_type": "markdown",
   "id": "cde421e0",
   "metadata": {
    "id": "cde421e0"
   },
   "source": [
    "<font color='blue'>\n",
    "    <font size = 5>\n",
    "        The next steps in this project involves summarization of data at various levels and visualization. Apparently, such simple steps are very useful to get an overall sense of the data.\n",
    "    </font>"
   ]
  },
  {
   "cell_type": "markdown",
   "id": "41c30ad7",
   "metadata": {
    "id": "41c30ad7"
   },
   "source": [
    "## Q 3. Here we summarize the data at Brand level.\n",
    "## a) How many unique Brand are there? (2 marks)\n",
    "## b) Note that each Brand contains multiple products. Show the average product_rating within each Brand (2 marks)\n"
   ]
  },
  {
   "cell_type": "markdown",
   "id": "beb3f83f",
   "metadata": {
    "id": "beb3f83f"
   },
   "source": [
    "### Ans 3 a)"
   ]
  },
  {
   "cell_type": "code",
   "execution_count": 10,
   "id": "41dcb79f",
   "metadata": {
    "id": "41dcb79f",
    "outputId": "8a42305a-d0b6-4386-a62e-b61601a12998"
   },
   "outputs": [
    {
     "name": "stdout",
     "output_type": "stream",
     "text": [
      "The number of unique brands is 2484\n"
     ]
    }
   ],
   "source": [
    "unique = ECom_Data['Brand'].nunique()\n",
    "print('The number of unique brands is',unique)"
   ]
  },
  {
   "cell_type": "markdown",
   "id": "5083d866",
   "metadata": {
    "id": "5083d866"
   },
   "source": [
    "### Ans 3 b)"
   ]
  },
  {
   "cell_type": "code",
   "execution_count": 11,
   "id": "10018c2c",
   "metadata": {
    "id": "10018c2c",
    "outputId": "f74c1492-1e1b-470d-d950-af9b037324e7"
   },
   "outputs": [
    {
     "data": {
      "text/plain": [
       "Brand\n",
       "1OAK           1.500000\n",
       "3A AUTOCARE    3.268293\n",
       "3D MAT         3.000000\n",
       "3KFACTORY      2.000000\n",
       "4D             3.600000\n",
       "                 ...   \n",
       "ZORDEN         4.000000\n",
       "ZOSIGN         3.400000\n",
       "ZRESTHA        1.000000\n",
       "ZYXEL          3.333333\n",
       " TARKAN        5.000000\n",
       "Name: product_rating, Length: 2484, dtype: float64"
      ]
     },
     "execution_count": 11,
     "metadata": {},
     "output_type": "execute_result"
    }
   ],
   "source": [
    "ECom_Data.groupby(['Brand'])['product_rating'].mean()"
   ]
  },
  {
   "cell_type": "markdown",
   "id": "bbf162af",
   "metadata": {
    "id": "bbf162af"
   },
   "source": [
    "## Q 4. Next we study the main categories of the products.\n",
    "\n",
    "## a) Create an appropriate plot to show the count of items ordered for each product_main_category. (6 marks).\n",
    "\n",
    "### Hint: Create a bar chart titled \"Product Category type\" where product_main_category are on x-axis and counts are on y-axis.\n",
    "\n",
    "### Note: Both axis labels, i.e. the names of the product_main_category and counts must be clearly legible.\n",
    "\n",
    "## b) From the plot identify for which two product_main_category(s)  maximum and minimum orders were placed. (2 marks)\n",
    "\n",
    "## c) Write code to print out the top 5 product_main_category(s)  in descending order? (3 marks"
   ]
  },
  {
   "cell_type": "code",
   "execution_count": 12,
   "id": "5c65c13f",
   "metadata": {
    "id": "5c65c13f",
    "outputId": "28434dbd-9660-43ae-bf7c-773cf569344f",
    "scrolled": false
   },
   "outputs": [
    {
     "data": {
      "text/plain": [
       "Clothing                       2943\n",
       "Mobiles & Accessories          1084\n",
       "Automotive                     1001\n",
       "Home Decor & Festive Needs      727\n",
       "Computers                       558\n",
       "                               ... \n",
       "Pet Supplies                     20\n",
       "Home Entertainment               17\n",
       "Household Supplies                4\n",
       "Food & Nutrition                  2\n",
       "Wearable Smart Devices            1\n",
       "Name: product_main_category, Length: 26, dtype: int64"
      ]
     },
     "execution_count": 12,
     "metadata": {},
     "output_type": "execute_result"
    }
   ],
   "source": [
    "d = ECom_Data['product_main_category'].value_counts()\n",
    "d"
   ]
  },
  {
   "cell_type": "markdown",
   "id": "36c72928",
   "metadata": {
    "id": "36c72928"
   },
   "source": [
    "### Ans 4 a)"
   ]
  },
  {
   "cell_type": "code",
   "execution_count": 13,
   "id": "f60dd2c1",
   "metadata": {
    "colab": {
     "base_uri": "https://localhost:8080/",
     "height": 834
    },
    "id": "f60dd2c1",
    "outputId": "5f68cfd5-0bf7-4255-cec1-c5ffdab330a6"
   },
   "outputs": [
    {
     "data": {
      "image/png": "[encoded data removed]",
      "text/plain": [
       "<Figure size 1080x504 with 1 Axes>"
      ]
     },
     "metadata": {
      "needs_background": "light"
     },
     "output_type": "display_data"
    }
   ],
   "source": [
    "plt.figure(figsize = (15, 7))\n",
    "sns.countplot(data=ECom_Data,x='product_main_category')\n",
    "plt.title('Product Category type')\n",
    "plt.xticks(rotation=90)\n",
    "plt.show()"
   ]
  },
  {
   "cell_type": "markdown",
   "id": "13a5b355",
   "metadata": {
    "id": "13a5b355"
   },
   "source": [
    "### Ans 4 b)"
   ]
  },
  {
   "cell_type": "markdown",
   "id": "0d60e1a4",
   "metadata": {
    "id": "0d60e1a4"
   },
   "source": [
    "Maximum order = Clothing, Mobiles & Accessories\n",
    "Minimum order = Wearable Smart Devices, Food & Nutrition"
   ]
  },
  {
   "cell_type": "markdown",
   "id": "4ea60c92",
   "metadata": {
    "id": "4ea60c92"
   },
   "source": [
    "### Ans 4 c)"
   ]
  },
  {
   "cell_type": "code",
   "execution_count": 14,
   "id": "7f704116",
   "metadata": {
    "id": "7f704116",
    "outputId": "ce78452c-fece-46d4-c6b6-39a0e15957bc"
   },
   "outputs": [
    {
     "data": {
      "text/plain": [
       "Clothing                       2943\n",
       "Mobiles & Accessories          1084\n",
       "Automotive                     1001\n",
       "Home Decor & Festive Needs      727\n",
       "Computers                       558\n",
       "Name: product_main_category, dtype: int64"
      ]
     },
     "execution_count": 14,
     "metadata": {},
     "output_type": "execute_result"
    }
   ],
   "source": [
    "d = ECom_Data['product_main_category'].value_counts()\n",
    "d.head()"
   ]
  },
  {
   "cell_type": "markdown",
   "id": "a9f81605",
   "metadata": {
    "id": "a9f81605"
   },
   "source": [
    "<font color='blue'>\n",
    "    <font size = 5>\n",
    "    In E-commerce, both the retailers (here brands) and the company have to make profit to sustain in the business.\n",
    "    The E-Commerce company has the following rule for computing their own revenue: </font>\n",
    "    \n",
    "####     The company charges  \n",
    "####  (i) 25% on the orders having final price (discounted price) greater than 600\n",
    "\n",
    "#### (ii) 15% on the orders having final price (discounted price) greater than 350 but less than or equal to 600\n",
    "\n",
    "#### (iii) 10% on the orders having final price (discounted price) greater than 100 but less than or equal to 350\n",
    "\n",
    "#### (iv) Otherwise, 5% on the final price (discounted price)    </font>"
   ]
  },
  {
   "cell_type": "markdown",
   "id": "0f255fea",
   "metadata": {
    "id": "0f255fea"
   },
   "source": [
    "## Q 5. Find the Total Revenue generated by the E-Commerce company over all orders placed. (6 marks)\n",
    "\n",
    "#### Hint: Calculate revenue of E-commerce company using the conditions mentioned above and then do the total (sum) of all to get total Revenue."
   ]
  },
  {
   "cell_type": "markdown",
   "id": "1f6b8028",
   "metadata": {
    "id": "1f6b8028"
   },
   "source": [
    "### Ans 5"
   ]
  },
  {
   "cell_type": "code",
   "execution_count": 15,
   "id": "c62d888f",
   "metadata": {
    "id": "c62d888f",
    "outputId": "411a5afa-45f1-43d8-b272-8d33b723fb34",
    "scrolled": false
   },
   "outputs": [
    {
     "name": "stdout",
     "output_type": "stream",
     "text": [
      "Total revenue generated by the E-Commerce company over all orders placed = 2217486.85000005\n"
     ]
    }
   ],
   "source": [
    "total_revenue = 0\n",
    "for i in ECom_Data['discounted_price']:\n",
    "    if i>600:\n",
    "        charge = 0.25*i\n",
    "    elif (i>350) and (i<=600):\n",
    "        charge = 0.15*i\n",
    "    elif (i>100) and (i<=350):\n",
    "        charge = 0.1*i\n",
    "    else:\n",
    "        charge = 0.05*i\n",
    "\n",
    "    total_revenue = total_revenue + charge\n",
    "    i=i+1\n",
    "\n",
    "print('Total revenue generated by the E-Commerce company over all orders placed =',total_revenue)"
   ]
  },
  {
   "cell_type": "code",
   "execution_count": 16,
   "id": "a71e7958",
   "metadata": {
    "id": "a71e7958"
   },
   "outputs": [],
   "source": [
    "#Alternate method\n",
    "def Ecom_revenue(discounted_price):\n",
    "  if discounted_price>600:\n",
    "        charge = 0.25*discounted_price\n",
    "  elif (discounted_price>350) and (discounted_price<=600):\n",
    "        charge = 0.15*discounted_price\n",
    "  elif (discounted_price>100) and (discounted_price<=350):\n",
    "        charge = 0.1*discounted_price\n",
    "  else:\n",
    "        charge = 0.05*discounted_price\n",
    "\n",
    "  return charge"
   ]
  },
  {
   "cell_type": "code",
   "execution_count": 17,
   "id": "u50bOA9iBrTf",
   "metadata": {
    "colab": {
     "base_uri": "https://localhost:8080/"
    },
    "id": "u50bOA9iBrTf",
    "outputId": "b202a996-a7f7-48da-c63a-a530b2caf1dc"
   },
   "outputs": [
    {
     "data": {
      "text/plain": [
       "2217486.85"
      ]
     },
     "execution_count": 17,
     "metadata": {},
     "output_type": "execute_result"
    }
   ],
   "source": [
    "ECom_Data[\"Ecom_revenue\"] = ECom_Data[\"discounted_price\"].apply(Ecom_revenue)\n",
    "\n",
    "ECom_Data[\"Ecom_revenue\"].sum()"
   ]
  },
  {
   "cell_type": "markdown",
   "id": "9161ca8c",
   "metadata": {
    "id": "9161ca8c"
   },
   "source": [
    "<font color='blue'>\n",
    "    <font size = 5>\n",
    "    Now you need to find the revenue for each retailer (Brand)\n",
    "    </font>"
   ]
  },
  {
   "cell_type": "code",
   "execution_count": 18,
   "id": "5af1c76e",
   "metadata": {
    "colab": {
     "base_uri": "https://localhost:8080/",
     "height": 1000
    },
    "id": "5af1c76e",
    "outputId": "acf38051-ad2d-417c-fd0c-b662b7f78f09"
   },
   "outputs": [
    {
     "data": {
      "text/html": [
       "<div>\n",
       "<style scoped>\n",
       "    .dataframe tbody tr th:only-of-type {\n",
       "        vertical-align: middle;\n",
       "    }\n",
       "\n",
       "    .dataframe tbody tr th {\n",
       "        vertical-align: top;\n",
       "    }\n",
       "\n",
       "    .dataframe thead th {\n",
       "        text-align: right;\n",
       "    }\n",
       "</style>\n",
       "<table border=\"1\" class=\"dataframe\">\n",
       "  <thead>\n",
       "    <tr style=\"text-align: right;\">\n",
       "      <th></th>\n",
       "      <th>Customer_uniq_id</th>\n",
       "      <th>Region</th>\n",
       "      <th>Order_Date</th>\n",
       "      <th>Expected_Delivery_Date</th>\n",
       "      <th>Delivered_Date</th>\n",
       "      <th>product_name</th>\n",
       "      <th>product_main_category</th>\n",
       "      <th>product_subcategory</th>\n",
       "      <th>product_category_filter</th>\n",
       "      <th>product_category_subfilter</th>\n",
       "      <th>product_unique ID</th>\n",
       "      <th>retail_price</th>\n",
       "      <th>discounted_price</th>\n",
       "      <th>product_rating</th>\n",
       "      <th>Brand</th>\n",
       "      <th>Ecom_revenue</th>\n",
       "      <th>brand_revenue</th>\n",
       "    </tr>\n",
       "  </thead>\n",
       "  <tbody>\n",
       "    <tr>\n",
       "      <th>0</th>\n",
       "      <td>e71017e224688489edfe856f2308806d</td>\n",
       "      <td>East</td>\n",
       "      <td>24-10-2021</td>\n",
       "      <td>25-10-2021</td>\n",
       "      <td>25-10-2021</td>\n",
       "      <td>Indcrown Net Embroidered Semi-stitched Lehenga...</td>\n",
       "      <td>Clothing</td>\n",
       "      <td>Women's Clothing</td>\n",
       "      <td>Ethnic Wear</td>\n",
       "      <td>Fabric</td>\n",
       "      <td>FABEJX2NHNKCYHKA</td>\n",
       "      <td>999</td>\n",
       "      <td>699</td>\n",
       "      <td>4.0</td>\n",
       "      <td>INDCROWN</td>\n",
       "      <td>174.75</td>\n",
       "      <td>524.25</td>\n",
       "    </tr>\n",
       "    <tr>\n",
       "      <th>1</th>\n",
       "      <td>6286847ee2da18f587503db49511c539</td>\n",
       "      <td>East</td>\n",
       "      <td>24-10-2021</td>\n",
       "      <td>25-10-2021</td>\n",
       "      <td>25-10-2021</td>\n",
       "      <td>Shopmania Music Band A5 Notebook Spiral Bound</td>\n",
       "      <td>Pens &amp; Stationery</td>\n",
       "      <td>Diaries &amp; Notebooks</td>\n",
       "      <td>Notebooks</td>\n",
       "      <td>Designer</td>\n",
       "      <td>DIAEJ6Z8BEDTGGYY</td>\n",
       "      <td>499</td>\n",
       "      <td>275</td>\n",
       "      <td>1.0</td>\n",
       "      <td>SHOPMANIA</td>\n",
       "      <td>27.50</td>\n",
       "      <td>247.50</td>\n",
       "    </tr>\n",
       "    <tr>\n",
       "      <th>2</th>\n",
       "      <td>0686fec9b70e5039583a38119ca0c835</td>\n",
       "      <td>West</td>\n",
       "      <td>24-10-2021</td>\n",
       "      <td>25-10-2021</td>\n",
       "      <td>25-10-2021</td>\n",
       "      <td>Shopmania Music Band A5 Notebook Spiral Bound</td>\n",
       "      <td>Pens &amp; Stationery</td>\n",
       "      <td>Diaries &amp; Notebooks</td>\n",
       "      <td>Notebooks</td>\n",
       "      <td>Designer</td>\n",
       "      <td>DIAEJ6Z8KQFWDEGH</td>\n",
       "      <td>499</td>\n",
       "      <td>275</td>\n",
       "      <td>2.0</td>\n",
       "      <td>SHOPMANIA</td>\n",
       "      <td>27.50</td>\n",
       "      <td>247.50</td>\n",
       "    </tr>\n",
       "    <tr>\n",
       "      <th>3</th>\n",
       "      <td>ea2406dc597bee2abb6b867fa668501f</td>\n",
       "      <td>West</td>\n",
       "      <td>24-10-2021</td>\n",
       "      <td>25-10-2021</td>\n",
       "      <td>25-10-2021</td>\n",
       "      <td>Tiara Diaries 2016-2017 Designer LA Kaarta \"TA...</td>\n",
       "      <td>Pens &amp; Stationery</td>\n",
       "      <td>Diaries &amp; Notebooks</td>\n",
       "      <td>Notebooks</td>\n",
       "      <td>Designer</td>\n",
       "      <td>DIAEJ8FGHZ3K86JU</td>\n",
       "      <td>1000</td>\n",
       "      <td>837</td>\n",
       "      <td>3.0</td>\n",
       "      <td>TIARA DIARIES</td>\n",
       "      <td>209.25</td>\n",
       "      <td>627.75</td>\n",
       "    </tr>\n",
       "    <tr>\n",
       "      <th>4</th>\n",
       "      <td>5935ed077915347dc695744df68c565c</td>\n",
       "      <td>East</td>\n",
       "      <td>03-09-2021</td>\n",
       "      <td>04-09-2021</td>\n",
       "      <td>04-09-2021</td>\n",
       "      <td>KAJCI Embroidered Women's Waistcoat</td>\n",
       "      <td>Clothing</td>\n",
       "      <td>Women's Clothing</td>\n",
       "      <td>Formal Wear</td>\n",
       "      <td>Waistcoats</td>\n",
       "      <td>WSCEG2FYDYFDSVZ6</td>\n",
       "      <td>1200</td>\n",
       "      <td>699</td>\n",
       "      <td>5.0</td>\n",
       "      <td>KAJCI</td>\n",
       "      <td>174.75</td>\n",
       "      <td>524.25</td>\n",
       "    </tr>\n",
       "    <tr>\n",
       "      <th>...</th>\n",
       "      <td>...</td>\n",
       "      <td>...</td>\n",
       "      <td>...</td>\n",
       "      <td>...</td>\n",
       "      <td>...</td>\n",
       "      <td>...</td>\n",
       "      <td>...</td>\n",
       "      <td>...</td>\n",
       "      <td>...</td>\n",
       "      <td>...</td>\n",
       "      <td>...</td>\n",
       "      <td>...</td>\n",
       "      <td>...</td>\n",
       "      <td>...</td>\n",
       "      <td>...</td>\n",
       "      <td>...</td>\n",
       "      <td>...</td>\n",
       "    </tr>\n",
       "    <tr>\n",
       "      <th>8901</th>\n",
       "      <td>90d30478255e23621e8929ed15c2f6e4</td>\n",
       "      <td>South</td>\n",
       "      <td>01-12-2020</td>\n",
       "      <td>04-12-2020</td>\n",
       "      <td>04-12-2020</td>\n",
       "      <td>Sinina Chanderi Embroidered Salwar Suit Dupatt...</td>\n",
       "      <td>Clothing</td>\n",
       "      <td>Women's Clothing</td>\n",
       "      <td>Ethnic Wear</td>\n",
       "      <td>Fabric</td>\n",
       "      <td>FABEGGHHDFMY8BZU</td>\n",
       "      <td>2980</td>\n",
       "      <td>1490</td>\n",
       "      <td>3.0</td>\n",
       "      <td>SININA</td>\n",
       "      <td>372.50</td>\n",
       "      <td>1117.50</td>\n",
       "    </tr>\n",
       "    <tr>\n",
       "      <th>8902</th>\n",
       "      <td>20a73e3f41490a73ceeba5f17658db8f</td>\n",
       "      <td>West</td>\n",
       "      <td>01-12-2020</td>\n",
       "      <td>04-12-2020</td>\n",
       "      <td>04-12-2020</td>\n",
       "      <td>Aarushi Fashion Chanderi Embroidered Salwar Su...</td>\n",
       "      <td>Clothing</td>\n",
       "      <td>Women's Clothing</td>\n",
       "      <td>Ethnic Wear</td>\n",
       "      <td>Fabric</td>\n",
       "      <td>FABEG8GFDUWRSNU3</td>\n",
       "      <td>2600</td>\n",
       "      <td>1300</td>\n",
       "      <td>1.0</td>\n",
       "      <td>AARUSHI FASHION</td>\n",
       "      <td>325.00</td>\n",
       "      <td>975.00</td>\n",
       "    </tr>\n",
       "    <tr>\n",
       "      <th>8903</th>\n",
       "      <td>5c1554cd45f9d538c2c6947dbdd59c75</td>\n",
       "      <td>East</td>\n",
       "      <td>01-12-2020</td>\n",
       "      <td>04-12-2020</td>\n",
       "      <td>04-12-2020</td>\n",
       "      <td>Ambika Lahenga Embroidered Lehenga, Choli and ...</td>\n",
       "      <td>Clothing</td>\n",
       "      <td>Women's Clothing</td>\n",
       "      <td>Ethnic Wear</td>\n",
       "      <td>Lehenga Cholis</td>\n",
       "      <td>LEHEGGEHYN4G2RPW</td>\n",
       "      <td>39992</td>\n",
       "      <td>24995</td>\n",
       "      <td>1.0</td>\n",
       "      <td>AMBIKA LAHENGA</td>\n",
       "      <td>6248.75</td>\n",
       "      <td>18746.25</td>\n",
       "    </tr>\n",
       "    <tr>\n",
       "      <th>8904</th>\n",
       "      <td>6b737a4deca1ed0e56c179e66036e994</td>\n",
       "      <td>West</td>\n",
       "      <td>01-12-2020</td>\n",
       "      <td>04-12-2020</td>\n",
       "      <td>04-12-2020</td>\n",
       "      <td>Sinina Chanderi Embroidered Salwar Suit Dupatt...</td>\n",
       "      <td>Clothing</td>\n",
       "      <td>Women's Clothing</td>\n",
       "      <td>Ethnic Wear</td>\n",
       "      <td>Fabric</td>\n",
       "      <td>FABEGGHHGSVCHGFV</td>\n",
       "      <td>2000</td>\n",
       "      <td>1000</td>\n",
       "      <td>3.0</td>\n",
       "      <td>SININA</td>\n",
       "      <td>250.00</td>\n",
       "      <td>750.00</td>\n",
       "    </tr>\n",
       "    <tr>\n",
       "      <th>8905</th>\n",
       "      <td>a5235ac28d3d5487f54025f9d6b57433</td>\n",
       "      <td>North</td>\n",
       "      <td>01-12-2020</td>\n",
       "      <td>04-12-2020</td>\n",
       "      <td>04-12-2020</td>\n",
       "      <td>Aarushi Fashion Silk Striped Salwar Suit Dupat...</td>\n",
       "      <td>Clothing</td>\n",
       "      <td>Women's Clothing</td>\n",
       "      <td>Ethnic Wear</td>\n",
       "      <td>Fabric</td>\n",
       "      <td>FABEG8GYDAABECZH</td>\n",
       "      <td>2800</td>\n",
       "      <td>1350</td>\n",
       "      <td>4.0</td>\n",
       "      <td>AARUSHI FASHION</td>\n",
       "      <td>337.50</td>\n",
       "      <td>1012.50</td>\n",
       "    </tr>\n",
       "  </tbody>\n",
       "</table>\n",
       "<p>8906 rows × 17 columns</p>\n",
       "</div>"
      ],
      "text/plain": [
       "                      Customer_uniq_id Region  Order_Date  \\\n",
       "0     e71017e224688489edfe856f2308806d  East   24-10-2021   \n",
       "1     6286847ee2da18f587503db49511c539  East   24-10-2021   \n",
       "2     0686fec9b70e5039583a38119ca0c835   West  24-10-2021   \n",
       "3     ea2406dc597bee2abb6b867fa668501f   West  24-10-2021   \n",
       "4     5935ed077915347dc695744df68c565c  East   03-09-2021   \n",
       "...                                ...    ...         ...   \n",
       "8901  90d30478255e23621e8929ed15c2f6e4  South  01-12-2020   \n",
       "8902  20a73e3f41490a73ceeba5f17658db8f   West  01-12-2020   \n",
       "8903  5c1554cd45f9d538c2c6947dbdd59c75  East   01-12-2020   \n",
       "8904  6b737a4deca1ed0e56c179e66036e994   West  01-12-2020   \n",
       "8905  a5235ac28d3d5487f54025f9d6b57433  North  01-12-2020   \n",
       "\n",
       "     Expected_Delivery_Date Delivered_Date  \\\n",
       "0                25-10-2021     25-10-2021   \n",
       "1                25-10-2021     25-10-2021   \n",
       "2                25-10-2021     25-10-2021   \n",
       "3                25-10-2021     25-10-2021   \n",
       "4                04-09-2021     04-09-2021   \n",
       "...                     ...            ...   \n",
       "8901             04-12-2020     04-12-2020   \n",
       "8902             04-12-2020     04-12-2020   \n",
       "8903             04-12-2020     04-12-2020   \n",
       "8904             04-12-2020     04-12-2020   \n",
       "8905             04-12-2020     04-12-2020   \n",
       "\n",
       "                                           product_name product_main_category  \\\n",
       "0     Indcrown Net Embroidered Semi-stitched Lehenga...             Clothing    \n",
       "1         Shopmania Music Band A5 Notebook Spiral Bound    Pens & Stationery    \n",
       "2         Shopmania Music Band A5 Notebook Spiral Bound    Pens & Stationery    \n",
       "3     Tiara Diaries 2016-2017 Designer LA Kaarta \"TA...    Pens & Stationery    \n",
       "4                   KAJCI Embroidered Women's Waistcoat             Clothing    \n",
       "...                                                 ...                   ...   \n",
       "8901  Sinina Chanderi Embroidered Salwar Suit Dupatt...             Clothing    \n",
       "8902  Aarushi Fashion Chanderi Embroidered Salwar Su...             Clothing    \n",
       "8903  Ambika Lahenga Embroidered Lehenga, Choli and ...             Clothing    \n",
       "8904  Sinina Chanderi Embroidered Salwar Suit Dupatt...             Clothing    \n",
       "8905  Aarushi Fashion Silk Striped Salwar Suit Dupat...             Clothing    \n",
       "\n",
       "        product_subcategory product_category_filter  \\\n",
       "0         Women's Clothing             Ethnic Wear    \n",
       "1      Diaries & Notebooks               Notebooks    \n",
       "2      Diaries & Notebooks               Notebooks    \n",
       "3      Diaries & Notebooks               Notebooks    \n",
       "4         Women's Clothing             Formal Wear    \n",
       "...                     ...                     ...   \n",
       "8901      Women's Clothing             Ethnic Wear    \n",
       "8902      Women's Clothing             Ethnic Wear    \n",
       "8903      Women's Clothing             Ethnic Wear    \n",
       "8904      Women's Clothing             Ethnic Wear    \n",
       "8905      Women's Clothing             Ethnic Wear    \n",
       "\n",
       "     product_category_subfilter product_unique ID  retail_price  \\\n",
       "0                       Fabric   FABEJX2NHNKCYHKA           999   \n",
       "1                     Designer   DIAEJ6Z8BEDTGGYY           499   \n",
       "2                     Designer   DIAEJ6Z8KQFWDEGH           499   \n",
       "3                     Designer   DIAEJ8FGHZ3K86JU          1000   \n",
       "4                   Waistcoats   WSCEG2FYDYFDSVZ6          1200   \n",
       "...                         ...               ...           ...   \n",
       "8901                    Fabric   FABEGGHHDFMY8BZU          2980   \n",
       "8902                    Fabric   FABEG8GFDUWRSNU3          2600   \n",
       "8903            Lehenga Cholis   LEHEGGEHYN4G2RPW         39992   \n",
       "8904                    Fabric   FABEGGHHGSVCHGFV          2000   \n",
       "8905                    Fabric   FABEG8GYDAABECZH          2800   \n",
       "\n",
       "      discounted_price  product_rating            Brand  Ecom_revenue  \\\n",
       "0                  699             4.0         INDCROWN        174.75   \n",
       "1                  275             1.0        SHOPMANIA         27.50   \n",
       "2                  275             2.0        SHOPMANIA         27.50   \n",
       "3                  837             3.0    TIARA DIARIES        209.25   \n",
       "4                  699             5.0            KAJCI        174.75   \n",
       "...                ...             ...              ...           ...   \n",
       "8901              1490             3.0           SININA        372.50   \n",
       "8902              1300             1.0  AARUSHI FASHION        325.00   \n",
       "8903             24995             1.0   AMBIKA LAHENGA       6248.75   \n",
       "8904              1000             3.0           SININA        250.00   \n",
       "8905              1350             4.0  AARUSHI FASHION        337.50   \n",
       "\n",
       "      brand_revenue  \n",
       "0            524.25  \n",
       "1            247.50  \n",
       "2            247.50  \n",
       "3            627.75  \n",
       "4            524.25  \n",
       "...             ...  \n",
       "8901        1117.50  \n",
       "8902         975.00  \n",
       "8903       18746.25  \n",
       "8904         750.00  \n",
       "8905        1012.50  \n",
       "\n",
       "[8906 rows x 17 columns]"
      ]
     },
     "execution_count": 18,
     "metadata": {},
     "output_type": "execute_result"
    }
   ],
   "source": [
    "ECom_Data[\"brand_revenue\"] = ECom_Data[\"discounted_price\"] - ECom_Data[\"Ecom_revenue\"]\n",
    "\n",
    "ECom_Data"
   ]
  },
  {
   "cell_type": "markdown",
   "id": "73dd23c3",
   "metadata": {
    "id": "73dd23c3"
   },
   "source": [
    "## Q6.Calculate the total BrandRevenue and list the top 10 Brand having maximum revenue in descending order (6 marks)\n",
    "#### Hint: Total BrandRevenue is BrandRevenue which is generated after all the deductions. Also, BrandRevenue is different from the E-Commerce company's revenue.\n",
    "#### Brand Revenue is the discounted price minus the Revenue (generated using the conditions given above Q5)\n"
   ]
  },
  {
   "cell_type": "markdown",
   "id": "3514fa79",
   "metadata": {
    "id": "3514fa79"
   },
   "source": [
    "### Ans 6"
   ]
  },
  {
   "cell_type": "code",
   "execution_count": 20,
   "id": "437c69b5",
   "metadata": {
    "id": "437c69b5"
   },
   "outputs": [],
   "source": [
    "ECom_Data[\"brand_revenue\"]= ECom_Data['discounted_price']-ECom_Data['Ecom_revenue'] "
   ]
  },
  {
   "cell_type": "code",
   "execution_count": 21,
   "id": "cae7e26d",
   "metadata": {},
   "outputs": [
    {
     "data": {
      "text/plain": [
       "Brand\n",
       "ALLURE AUTO     498464.25\n",
       "GAGA            237390.00\n",
       "SLIM            212062.60\n",
       "DAILYOBJECTS    181980.00\n",
       "DIVINITI        143115.00\n",
       "THELOSTPUPPY    127287.50\n",
       "REGULAR         126536.50\n",
       "ENTHOPIA        123146.25\n",
       "ASUS             99241.50\n",
       "SPRINGWEL        88978.50\n",
       "Name: brand_revenue, dtype: float64"
      ]
     },
     "execution_count": 21,
     "metadata": {},
     "output_type": "execute_result"
    }
   ],
   "source": [
    "ECom_Data.groupby(['Brand'])['brand_revenue'].sum().sort_values(ascending = False).head(10)"
   ]
  },
  {
   "cell_type": "markdown",
   "id": "2a2bbd83",
   "metadata": {
    "id": "2a2bbd83"
   },
   "source": [
    "<font color='blue'>\n",
    "    <font size = 5>\n",
    "Let us now investigate multiple features for each product to determine any pattern.\n",
    "</font>"
   ]
  },
  {
   "cell_type": "markdown",
   "id": "1aa1834b",
   "metadata": {
    "id": "1aa1834b"
   },
   "source": [
    "## Q 7. Compare prices for each product.\n",
    "\n",
    "## a)\tDraw boxplots of retail_price & discounted_price. (3 marks)\n",
    "\n",
    "## b)\t Are there any outliers? (Yes/No) (1mark)\n",
    "\n",
    "## c)\tCreate a scatterplot of retail_price (x-axis) and discounted_price (y-axis) (3 marks)\n"
   ]
  },
  {
   "cell_type": "markdown",
   "id": "d5aae861",
   "metadata": {
    "id": "d5aae861"
   },
   "source": [
    "### Ans 7 a)"
   ]
  },
  {
   "cell_type": "code",
   "execution_count": 22,
   "id": "510fd4d0",
   "metadata": {
    "colab": {
     "base_uri": "https://localhost:8080/",
     "height": 488
    },
    "id": "510fd4d0",
    "outputId": "05be1d50-5885-417b-f402-bb174532ab96"
   },
   "outputs": [
    {
     "data": {
      "image/png": "[encoded data removed]",
      "text/plain": [
       "<Figure size 432x288 with 1 Axes>"
      ]
     },
     "metadata": {
      "needs_background": "light"
     },
     "output_type": "display_data"
    }
   ],
   "source": [
    "sns.boxplot(data=ECom_Data, x='retail_price');\n",
    "plt.xticks(rotation=90)\n",
    "plt.show()"
   ]
  },
  {
   "cell_type": "code",
   "execution_count": 23,
   "id": "2159912b",
   "metadata": {
    "colab": {
     "base_uri": "https://localhost:8080/",
     "height": 488
    },
    "id": "2159912b",
    "outputId": "feb32fb9-6d95-46b2-b2a5-5d407ab7ea11"
   },
   "outputs": [
    {
     "data": {
      "image/png": "[encoded data removed]",
      "text/plain": [
       "<Figure size 432x288 with 1 Axes>"
      ]
     },
     "metadata": {
      "needs_background": "light"
     },
     "output_type": "display_data"
    }
   ],
   "source": [
    "sns.boxplot(data=ECom_Data, x='discounted_price');\n",
    "plt.xticks(rotation=90)\n",
    "plt.show()"
   ]
  },
  {
   "cell_type": "markdown",
   "id": "78b92e7c",
   "metadata": {
    "id": "78b92e7c"
   },
   "source": [
    "### Ans 7 b)"
   ]
  },
  {
   "cell_type": "markdown",
   "id": "goQVX3ALDHt6",
   "metadata": {
    "id": "goQVX3ALDHt6"
   },
   "source": [
    "Yes, there are outliers."
   ]
  },
  {
   "cell_type": "markdown",
   "id": "0389c9b8",
   "metadata": {
    "id": "0389c9b8"
   },
   "source": [
    "### Ans 7 c)"
   ]
  },
  {
   "cell_type": "code",
   "execution_count": 24,
   "id": "d8c44be9",
   "metadata": {
    "colab": {
     "base_uri": "https://localhost:8080/",
     "height": 450
    },
    "id": "d8c44be9",
    "outputId": "4af4ac2c-b6ff-4fec-d03c-e24e62500614"
   },
   "outputs": [
    {
     "data": {
      "image/png": "[encoded data removed]",
      "text/plain": [
       "<Figure size 432x288 with 1 Axes>"
      ]
     },
     "metadata": {
      "needs_background": "light"
     },
     "output_type": "display_data"
    }
   ],
   "source": [
    "sns.scatterplot(data=ECom_Data, x='retail_price', y='discounted_price')\n",
    "plt.show()"
   ]
  },
  {
   "cell_type": "markdown",
   "id": "3bc47f55",
   "metadata": {
    "id": "3bc47f55"
   },
   "source": [
    "<font color='blue'>\n",
    "    <font size = 5>\n",
    "    The next steps will enable to study brand-level information.\n",
    "    </font>"
   ]
  },
  {
   "cell_type": "markdown",
   "id": "b9bd00f7",
   "metadata": {
    "id": "b9bd00f7"
   },
   "source": [
    "## Q 8. Create a new dataframe to include the Brand specific information as stated:\n",
    "## i.\ttotal number of orders placed per Brand\n",
    "## ii.\ttotal retail_price per Brand\n",
    "## iii.\ttotal discounted_price per Brand, and\n",
    "## iv.\ttotal BrandRevenue generated per Brand.\n",
    "\n",
    "## Also, draw a pairplot using these four features. (6 marks)\n"
   ]
  },
  {
   "cell_type": "markdown",
   "id": "8f83cea9",
   "metadata": {
    "id": "8f83cea9"
   },
   "source": [
    "### Ans 8"
   ]
  },
  {
   "cell_type": "code",
   "execution_count": 25,
   "id": "ae749847",
   "metadata": {
    "colab": {
     "base_uri": "https://localhost:8080/",
     "height": 245
    },
    "id": "ae749847",
    "outputId": "698f53f7-2cb8-42c6-9549-43d7e5f53758"
   },
   "outputs": [
    {
     "data": {
      "text/html": [
       "<div>\n",
       "<style scoped>\n",
       "    .dataframe tbody tr th:only-of-type {\n",
       "        vertical-align: middle;\n",
       "    }\n",
       "\n",
       "    .dataframe tbody tr th {\n",
       "        vertical-align: top;\n",
       "    }\n",
       "\n",
       "    .dataframe thead th {\n",
       "        text-align: right;\n",
       "    }\n",
       "</style>\n",
       "<table border=\"1\" class=\"dataframe\">\n",
       "  <thead>\n",
       "    <tr style=\"text-align: right;\">\n",
       "      <th></th>\n",
       "      <th>brands</th>\n",
       "      <th>orders</th>\n",
       "      <th>retail_price</th>\n",
       "      <th>discounted_price</th>\n",
       "      <th>brand_revenue</th>\n",
       "    </tr>\n",
       "  </thead>\n",
       "  <tbody>\n",
       "    <tr>\n",
       "      <th>0</th>\n",
       "      <td>1OAK</td>\n",
       "      <td>2</td>\n",
       "      <td>1698</td>\n",
       "      <td>1274</td>\n",
       "      <td>1015.40</td>\n",
       "    </tr>\n",
       "    <tr>\n",
       "      <th>1</th>\n",
       "      <td>3A AUTOCARE</td>\n",
       "      <td>41</td>\n",
       "      <td>107059</td>\n",
       "      <td>74134</td>\n",
       "      <td>55647.90</td>\n",
       "    </tr>\n",
       "    <tr>\n",
       "      <th>2</th>\n",
       "      <td>3D MAT</td>\n",
       "      <td>1</td>\n",
       "      <td>7250</td>\n",
       "      <td>6999</td>\n",
       "      <td>5249.25</td>\n",
       "    </tr>\n",
       "    <tr>\n",
       "      <th>3</th>\n",
       "      <td>3KFACTORY</td>\n",
       "      <td>1</td>\n",
       "      <td>399</td>\n",
       "      <td>174</td>\n",
       "      <td>156.60</td>\n",
       "    </tr>\n",
       "    <tr>\n",
       "      <th>4</th>\n",
       "      <td>4D</td>\n",
       "      <td>5</td>\n",
       "      <td>17500</td>\n",
       "      <td>7948</td>\n",
       "      <td>5961.00</td>\n",
       "    </tr>\n",
       "    <tr>\n",
       "      <th>...</th>\n",
       "      <td>...</td>\n",
       "      <td>...</td>\n",
       "      <td>...</td>\n",
       "      <td>...</td>\n",
       "      <td>...</td>\n",
       "    </tr>\n",
       "    <tr>\n",
       "      <th>2479</th>\n",
       "      <td>ZORDEN</td>\n",
       "      <td>1</td>\n",
       "      <td>3999</td>\n",
       "      <td>2799</td>\n",
       "      <td>2099.25</td>\n",
       "    </tr>\n",
       "    <tr>\n",
       "      <th>2480</th>\n",
       "      <td>ZOSIGN</td>\n",
       "      <td>5</td>\n",
       "      <td>6995</td>\n",
       "      <td>6995</td>\n",
       "      <td>5246.25</td>\n",
       "    </tr>\n",
       "    <tr>\n",
       "      <th>2481</th>\n",
       "      <td>ZRESTHA</td>\n",
       "      <td>1</td>\n",
       "      <td>1999</td>\n",
       "      <td>899</td>\n",
       "      <td>674.25</td>\n",
       "    </tr>\n",
       "    <tr>\n",
       "      <th>2482</th>\n",
       "      <td>ZYXEL</td>\n",
       "      <td>9</td>\n",
       "      <td>64742</td>\n",
       "      <td>35392</td>\n",
       "      <td>26544.00</td>\n",
       "    </tr>\n",
       "    <tr>\n",
       "      <th>2483</th>\n",
       "      <td>TARKAN</td>\n",
       "      <td>1</td>\n",
       "      <td>1999</td>\n",
       "      <td>349</td>\n",
       "      <td>314.10</td>\n",
       "    </tr>\n",
       "  </tbody>\n",
       "</table>\n",
       "<p>2484 rows × 5 columns</p>\n",
       "</div>"
      ],
      "text/plain": [
       "           brands  orders  retail_price  discounted_price  brand_revenue\n",
       "0            1OAK       2          1698              1274        1015.40\n",
       "1     3A AUTOCARE      41        107059             74134       55647.90\n",
       "2          3D MAT       1          7250              6999        5249.25\n",
       "3       3KFACTORY       1           399               174         156.60\n",
       "4              4D       5         17500              7948        5961.00\n",
       "...           ...     ...           ...               ...            ...\n",
       "2479       ZORDEN       1          3999              2799        2099.25\n",
       "2480       ZOSIGN       5          6995              6995        5246.25\n",
       "2481      ZRESTHA       1          1999               899         674.25\n",
       "2482        ZYXEL       9         64742             35392       26544.00\n",
       "2483       TARKAN       1          1999               349         314.10\n",
       "\n",
       "[2484 rows x 5 columns]"
      ]
     },
     "execution_count": 25,
     "metadata": {},
     "output_type": "execute_result"
    }
   ],
   "source": [
    "Brand = ECom_Data.groupby(\"Brand\")[\"product_unique ID\"].count().index\n",
    "\n",
    "Orders = ECom_Data.groupby(\"Brand\")[\"product_unique ID\"].count().values\n",
    "\n",
    "Retail_price = ECom_Data.groupby(\"Brand\")[\"retail_price\"].sum().values\n",
    "\n",
    "Discounted_price = ECom_Data.groupby(\"Brand\")[\"discounted_price\"].sum().values\n",
    "\n",
    "Brand_revenue = ECom_Data.groupby(\"Brand\")[\"brand_revenue\"].sum().values\n",
    "\n",
    "df = {\"brands\":Brand, \"orders\":Orders, \"retail_price\":Retail_price, \"discounted_price\":Discounted_price, \"brand_revenue\":Brand_revenue}\n",
    "\n",
    "ECom_Data_1 = pd.DataFrame(df)\n",
    "\n",
    "ECom_Data_1"
   ]
  },
  {
   "cell_type": "code",
   "execution_count": null,
   "id": "OLIhXkbZHl9I",
   "metadata": {
    "id": "OLIhXkbZHl9I"
   },
   "outputs": [],
   "source": []
  },
  {
   "cell_type": "code",
   "execution_count": 26,
   "id": "z-PZNVKwHP1x",
   "metadata": {
    "colab": {
     "base_uri": "https://localhost:8080/"
    },
    "id": "z-PZNVKwHP1x",
    "outputId": "5cf0c5ec-71ef-4319-e04d-9da18461a47c"
   },
   "outputs": [
    {
     "data": {
      "image/png": "[encoded data removed]",
      "text/plain": [
       "<Figure size 720x720 with 20 Axes>"
      ]
     },
     "metadata": {
      "needs_background": "light"
     },
     "output_type": "display_data"
    }
   ],
   "source": [
    "sns.pairplot(data = ECom_Data_1)\n",
    "plt.show()"
   ]
  },
  {
   "cell_type": "markdown",
   "id": "ecec83f4",
   "metadata": {
    "id": "ecec83f4"
   },
   "source": [
    "<font color='blue'>\n",
    "    <font size = 5>\n",
    "    The E-Commerce company operate in multiple regions. It is important to understand its performance in each region.\n",
    "    </font>"
   ]
  },
  {
   "cell_type": "markdown",
   "id": "dd09b8aa",
   "metadata": {
    "id": "dd09b8aa"
   },
   "source": [
    "## Q 9.Compare performance regionwise\n",
    "\n",
    "## a)\tDraw a lineplot for the monthly Revenue of E-Commerce Company for each region separately.  (4 marks)\n",
    "\n",
    "## b)\tIdentify the best and the worst performing months for each region. (2 marks)\n",
    "\n",
    "#### Note: Only those days with actual orders(Order_Date) placed are present in the dataset. Assuming there were no orders on other days. Also, show Month and Year on x-axis."
   ]
  },
  {
   "cell_type": "markdown",
   "id": "e6d64aea",
   "metadata": {
    "id": "e6d64aea"
   },
   "source": [
    "### Ans 9 a)"
   ]
  },
  {
   "cell_type": "code",
   "execution_count": 27,
   "id": "fRnmmtsPJ22X",
   "metadata": {
    "colab": {
     "base_uri": "https://localhost:8080/"
    },
    "id": "fRnmmtsPJ22X",
    "outputId": "3a9bf167-2192-4eb5-b587-589330cade4d"
   },
   "outputs": [
    {
     "name": "stdout",
     "output_type": "stream",
     "text": [
      "<class 'pandas.core.frame.DataFrame'>\n",
      "RangeIndex: 8906 entries, 0 to 8905\n",
      "Data columns (total 17 columns):\n",
      " #   Column                      Non-Null Count  Dtype  \n",
      "---  ------                      --------------  -----  \n",
      " 0   Customer_uniq_id            8906 non-null   object \n",
      " 1   Region                      8906 non-null   object \n",
      " 2   Order_Date                  8906 non-null   object \n",
      " 3   Expected_Delivery_Date      8906 non-null   object \n",
      " 4   Delivered_Date              8906 non-null   object \n",
      " 5   product_name                8906 non-null   object \n",
      " 6   product_main_category       8906 non-null   object \n",
      " 7   product_subcategory         8906 non-null   object \n",
      " 8   product_category_filter     8906 non-null   object \n",
      " 9   product_category_subfilter  8906 non-null   object \n",
      " 10  product_unique ID           8906 non-null   object \n",
      " 11  retail_price                8906 non-null   int64  \n",
      " 12  discounted_price            8906 non-null   int64  \n",
      " 13  product_rating              8906 non-null   float64\n",
      " 14  Brand                       8906 non-null   object \n",
      " 15  Ecom_revenue                8906 non-null   float64\n",
      " 16  brand_revenue               8906 non-null   float64\n",
      "dtypes: float64(3), int64(2), object(12)\n",
      "memory usage: 1.2+ MB\n"
     ]
    }
   ],
   "source": [
    "ECom_Data.info()"
   ]
  },
  {
   "cell_type": "code",
   "execution_count": 28,
   "id": "EC-tnULRI8k7",
   "metadata": {
    "id": "EC-tnULRI8k7"
   },
   "outputs": [],
   "source": [
    "ECom_Data[\"Order_Date\"] = pd.to_datetime(ECom_Data[\"Order_Date\"], dayfirst = True)"
   ]
  },
  {
   "cell_type": "code",
   "execution_count": 29,
   "id": "AMekERyPLPoo",
   "metadata": {
    "id": "AMekERyPLPoo"
   },
   "outputs": [],
   "source": [
    "ECom_Data[\"year\"] = ECom_Data[\"Order_Date\"].dt.year\n",
    "ECom_Data[\"month\"] = ECom_Data[\"Order_Date\"].dt.month"
   ]
  },
  {
   "cell_type": "code",
   "execution_count": 30,
   "id": "j7q3lsl1LdwZ",
   "metadata": {
    "colab": {
     "base_uri": "https://localhost:8080/"
    },
    "id": "j7q3lsl1LdwZ",
    "outputId": "4b05cdeb-9bf1-416a-d6ce-38bc98c9e4d7"
   },
   "outputs": [
    {
     "data": {
      "text/plain": [
       "month\n",
       "1     145593.75\n",
       "2      15020.90\n",
       "3     119632.50\n",
       "4      46845.20\n",
       "5      18631.85\n",
       "6      40579.80\n",
       "7        537.00\n",
       "8        736.75\n",
       "10       236.75\n",
       "12    302971.95\n",
       "Name: Ecom_revenue, dtype: float64"
      ]
     },
     "execution_count": 30,
     "metadata": {},
     "output_type": "execute_result"
    }
   ],
   "source": [
    "ECom_Data[ECom_Data[\"Region\"] == \"West\"].groupby(\"month\")[\"Ecom_revenue\"].sum()"
   ]
  },
  {
   "cell_type": "code",
   "execution_count": 47,
   "id": "d9a4f534",
   "metadata": {
    "colab": {
     "base_uri": "https://localhost:8080/",
     "height": 619
    },
    "id": "d9a4f534",
    "outputId": "c225cea7-b257-4f76-d8b0-de990438c3ed"
   },
   "outputs": [],
   "source": [
    "monthly_revenue = ECom_Data.groupby(['Region', 'year', 'month'])['Ecom_revenue'].sum().reset_index()"
   ]
  },
  {
   "cell_type": "code",
   "execution_count": 48,
   "id": "5cbca146",
   "metadata": {},
   "outputs": [
    {
     "data": {
      "image/png": "[encoded data removed]",
      "text/plain": [
       "<Figure size 720x432 with 1 Axes>"
      ]
     },
     "metadata": {
      "needs_background": "light"
     },
     "output_type": "display_data"
    },
    {
     "name": "stdout",
     "output_type": "stream",
     "text": [
      "For East  Region:\n",
      "Best Performing Month: 12/2020 - Ecom_revenue: $363413.85\n",
      "Worst Performing Month: 10/2021 - Ecom_revenue: $202.25\n",
      "\n"
     ]
    },
    {
     "data": {
      "image/png": "[encoded data removed]",
      "text/plain": [
       "<Figure size 720x432 with 1 Axes>"
      ]
     },
     "metadata": {
      "needs_background": "light"
     },
     "output_type": "display_data"
    },
    {
     "name": "stdout",
     "output_type": "stream",
     "text": [
      "For North Region:\n",
      "Best Performing Month: 12/2020 - Ecom_revenue: $195149.95\n",
      "Worst Performing Month: 7/2021 - Ecom_revenue: $306.0\n",
      "\n"
     ]
    },
    {
     "data": {
      "image/png": "[encoded data removed]",
      "text/plain": [
       "<Figure size 720x432 with 1 Axes>"
      ]
     },
     "metadata": {
      "needs_background": "light"
     },
     "output_type": "display_data"
    },
    {
     "name": "stdout",
     "output_type": "stream",
     "text": [
      "For South Region:\n",
      "Best Performing Month: 12/2020 - Ecom_revenue: $95088.25\n",
      "Worst Performing Month: 5/2021 - Ecom_revenue: $3708.75\n",
      "\n"
     ]
    },
    {
     "data": {
      "image/png": "[encoded data removed]",
      "text/plain": [
       "<Figure size 720x432 with 1 Axes>"
      ]
     },
     "metadata": {
      "needs_background": "light"
     },
     "output_type": "display_data"
    },
    {
     "name": "stdout",
     "output_type": "stream",
     "text": [
      "For West Region:\n",
      "Best Performing Month: 12/2020 - Ecom_revenue: $302971.95\n",
      "Worst Performing Month: 10/2021 - Ecom_revenue: $236.75\n",
      "\n"
     ]
    }
   ],
   "source": [
    "regions = monthly_revenue['Region'].unique()\n",
    "for region in regions:\n",
    "    region_data = monthly_revenue[monthly_revenue['Region'] == region]\n",
    "    plt.figure(figsize=(10, 6))\n",
    "    sns.lineplot(data=region_data, x='month', y='Ecom_revenue', hue='year', marker='o')\n",
    "    custom_palette = {'2020': 'pink', '2021': 'blue'}\n",
    "    plt.title(f'Monthly Revenue for {region} Region')\n",
    "    plt.xlabel('Month')\n",
    "    plt.ylabel('Revenue')\n",
    "    plt.xticks(range(1, 13), ['Jan', 'Feb', 'Mar', 'Apr', 'May', 'Jun', 'Jul', 'Aug', 'Sep', 'Oct', 'Nov', 'Dec'])\n",
    "    plt.legend(title='Year')\n",
    "    plt.show()\n",
    "\n",
    "    # Identify best and worst performing months\n",
    "    best_month = region_data.loc[region_data['Ecom_revenue'].idxmax()]\n",
    "    worst_month = region_data.loc[region_data['Ecom_revenue'].idxmin()]\n",
    "    print(f'For {region} Region:')\n",
    "    print(f'Best Performing Month: {best_month[\"month\"]}/{best_month[\"year\"]} - Ecom_revenue: ${best_month[\"Ecom_revenue\"]}')\n",
    "    print(f'Worst Performing Month: {worst_month[\"month\"]}/{worst_month[\"year\"]} - Ecom_revenue: ${worst_month[\"Ecom_revenue\"]}')\n",
    "    print()"
   ]
  },
  {
   "cell_type": "code",
   "execution_count": null,
   "id": "a5757107",
   "metadata": {},
   "outputs": [],
   "source": []
  },
  {
   "cell_type": "markdown",
   "id": "dac59dc4",
   "metadata": {
    "id": "dac59dc4"
   },
   "source": [
    "### Ans 9 b)"
   ]
  },
  {
   "cell_type": "code",
   "execution_count": 37,
   "id": "9f569635",
   "metadata": {
    "id": "9f569635"
   },
   "outputs": [],
   "source": [
    "#written along with the 9(a)"
   ]
  },
  {
   "cell_type": "markdown",
   "id": "dcb8d39f",
   "metadata": {
    "id": "dcb8d39f"
   },
   "source": [
    "<font color='blue'>\n",
    "    <font size = 5>\n",
    "    Congratulations! You have learnt how to approach a complex data and extract information out of it.\n",
    "    </font>"
   ]
  }
 ],
 "metadata": {
  "colab": {
   "provenance": []
  },
  "kernelspec": {
   "display_name": "Python 3 (ipykernel)",
   "language": "python",
   "name": "python3"
  },
  "language_info": {
   "codemirror_mode": {
    "name": "ipython",
    "version": 3
   },
   "file_extension": ".py",
   "mimetype": "text/x-python",
   "name": "python",
   "nbconvert_exporter": "python",
   "pygments_lexer": "ipython3",
   "version": "3.9.12"
  }
 },
 "nbformat": 4,
 "nbformat_minor": 5
}
